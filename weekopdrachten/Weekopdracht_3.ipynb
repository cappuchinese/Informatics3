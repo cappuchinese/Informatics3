{
 "cells": [
  {
   "cell_type": "markdown",
   "metadata": {},
   "source": [
    "# Week 3 \n",
    "This week we write a more advanced class including special methods "
   ]
  },
  {
   "cell_type": "markdown",
   "metadata": {},
   "source": [
    "## Creating a class\n",
    "Create a class AminoAcidSequence with the following functionality\n",
    "\n",
    "1. A developer readable object description\n",
    "2. An user (human readable) object description\n",
    "3. Implementation  of builtin len that returns the length of the amino-acid sequence\n",
    "4. A check if it only contains valid amino-acids\n",
    "5. Make your aminoacid object iterable\n",
    "6. Implementation of builtin next that makes that we can can keep iterating over the sequence \n",
    "7. Implementation of builtin add that allow us to add other sequence to your amino-acid sequence \n",
    "8. When you call your object as a function it returns the composition of the sequence"
   ]
  },
  {
   "cell_type": "code",
   "execution_count": null,
   "metadata": {},
   "outputs": [],
   "source": [
    "class AminoAcidSequence:\n",
    "    \"\"\"\n",
    "    object description\n",
    "    \"\"\"\n",
    "    def __init__(self, name, seq):\n",
    "        self.name = name\n",
    "        self.seq = seq\n",
    "        self.index = 0\n",
    "\n",
    "    def __len__(self):\n",
    "        return len(self.seq)\n",
    "\n",
    "    def aa_check(self):\n",
    "        allowed_aa = \"ARNDCQEGHILKMFPSTWYV\"\n",
    "        if self.seq not in allowed_aa:\n",
    "            return False\n",
    "        return True\n",
    "\n",
    "    def __iter__(self):\n",
    "        return self.seq\n",
    "\n",
    "    def __next__(self):\n",
    "        if self.index == len(self.seq):\n",
    "            self.index = 0\n",
    "            raise StopIteration\n",
    "        else:\n",
    "            self.index += 1\n",
    "            return self.seq[self.index-1]\n",
    "\n",
    "    def __add__(self, other):\n",
    "        return self.seq + other.seq\n",
    "\n",
    "\n"
   ]
  },
  {
   "cell_type": "markdown",
   "metadata": {},
   "source": [
    "## Writing a test script to test the functionalities\n",
    "Now write a test script to test the functionalities"
   ]
  },
  {
   "cell_type": "code",
   "execution_count": null,
   "metadata": {},
   "outputs": [],
   "source": []
  },
  {
   "cell_type": "markdown",
   "metadata": {},
   "source": [
    "Submit your aminoacidsequence.py containing the class and the test script test_aminoacidsequence.py to blackboard"
   ]
  }
 ],
 "metadata": {
  "kernelspec": {
   "display_name": "Python 3",
   "language": "python",
   "name": "python3"
  },
  "language_info": {
   "codemirror_mode": {
    "name": "ipython",
    "version": 3
   },
   "file_extension": ".py",
   "mimetype": "text/x-python",
   "name": "python",
   "nbconvert_exporter": "python",
   "pygments_lexer": "ipython3",
   "version": "3.9.1"
  }
 },
 "nbformat": 4,
 "nbformat_minor": 1
}