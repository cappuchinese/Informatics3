{
  "cells": [
    {
      "metadata": {
        "collapsed": true
      },
      "cell_type": "markdown",
      "source": "![](hanze.png)\n# Tentamen Informatica 3"
    },
    {
      "metadata": {},
      "cell_type": "markdown",
      "source": "## Vraag 1"
    },
    {
      "metadata": {
        "trusted": true
      },
      "cell_type": "code",
      "source": "def vraag1(my_list):\n    \"\"\"\n    Gegeven een lijst met getallen, maak een nieuwe lijst die alleen de getallen bevat\n    die deelbaar zijn door 3. Maak hierbij gebruik van `filter`. Laat dit zien aan de hand\n    van deze lijst: [4,2,5,3,6,4,7]\n    \"\"\"\n    \n    x = \"enter here your code (multiple lines allowed)\"\n    return x\n\ntest = \"Write here your testscript\"",
      "execution_count": null,
      "outputs": []
    },
    {
      "metadata": {},
      "cell_type": "markdown",
      "source": "## Vraag 2"
    },
    {
      "metadata": {
        "trusted": true
      },
      "cell_type": "code",
      "source": "def vraag2():\n    \"\"\"\n    Gegeven deze aminozuurvolgordes van de katalytische site van een bepaalde\n    groep enzymen: \"WGKHVHVLH\", \"YGRHVVHVLH\", \"YGKHVMHVLH\", \"WGRHMVHILH\",\n    \"WGKHVHIIH\". Maak de meest specifieke reguliere expressie die deze volgordes\n    definieert. Laat door middel van code zien dat het patroon op alle volgordes van\n    toepassing is. Als je patroon goed is, zal deze volgorde juist geen match geven:\n    \"YGKHVHLH\". Je kunt de volgordes vinden in vinden in de file data.py (te vinden in data/).\n    \"\"\"\n    \n    x = \"enter here your code (multiple lines allowed)\"\n    return x\n\ntest = \"Write here your testscript\"",
      "execution_count": null,
      "outputs": []
    },
    {
      "metadata": {},
      "cell_type": "markdown",
      "source": "## Vraag 3\nEnzymen vallen onder een groep van eiwitten die bepaalde chemische reacties\nversnellen. Enzymen zijn meestal actief in een of meerdere biochemisch routes\n(pathways). Een pathway bestaat uit een serie chemische reacties die\nachtereenvolgens door verschillende enzymen worden uitgevoerd. Bijvoorbeeld, de\neerste drie stappen van de glycolyse bestaan uit (1) de omzetting van glucose naar\nglucose-6-fosfaat door het enzym hexokinase (2) de omzetting van glucose-6-fosfaat\nnaar fructose-6-fosfaat door het enzym fosfoglucose isomerase en (3) de omzetting\nvan fructose-6-fosfaat naar fructose-1,6-bisfosfaat door het enzym fosfofructokinase.\n\nModelleer nu dit principe aan de hand van deze opdrachten\n\nA. Implementeer de klasse Enzyme. Geef een implementatie van een\nconstructor, `__init__()`. De constructor moet de naam van het enzym\nhet substraat en het product van de omzetting meekrijgen.\n\nB. Implementeer de klasse Pathway. Geef een implementatie van een\nconstructor, `__init__()`, die de naam van de pathway en een lijst met\nEnzym-objecten moet krijgen waaruit de Pathway bestaat.\n\nC. Implementeer voor beide klassen de methode `__str__()` op een logische\nen correcte manier.\n\nD. Zorg dat op objecten van type Pathway als argument aan de built-in functie\n`len()` gegeven kunnen worden en dan een logische waarde retourneren.\n\nE. Zorg dat objecten van het type Pathway **itereerbaar** zijn op de Enzymen die\nze bevatten. Demonstreer het gebruik hiervan met een `for-loop`."
    },
    {
      "metadata": {
        "trusted": true
      },
      "cell_type": "code",
      "source": "class Enzyme:\n    \"\"\"write code here\"\"\"\n    ...\n\n\n\"\"\"test all the written code\"\"\"",
      "execution_count": null,
      "outputs": []
    },
    {
      "metadata": {},
      "cell_type": "markdown",
      "source": "## Vraag 4\nGegeven de volgende lijst: [2,1,0,2,4,'foo',3,4,0,5].\n\nA. Gebruik een “for-loop” die voor elk element in de bovenstaande lijst\n1/element berekent. \n\nB. Bij het uitvoeren van vraag 4A krijg je twee typen Errors. Maak je eigen\nexceptie class (MyException) die bij het verkrijgen van een error het type\nerror checkt en hier een melding van doet. Gebruik hierbij de magic methods\n`__str__()` en `__name__` \n\nC. Geef aan het einde van het doorlopen van de lijst het totaal aantal errors\ndie zijn voorgevallen weer. \n\nDe verwachte output is hieronder te vinden\n"
    },
    {
      "metadata": {},
      "cell_type": "raw",
      "source": "0.5\n1.0\nZeroDivisionError Can't divide 1 by 0\n0.5\n0.25\nTypeError Can't divide 1 by String \"foo\"\n0.3333333333333333\n0.25\nZeroDivisionError Can't divide 1 by 0\n0.2\n# errors's: 3"
    },
    {
      "metadata": {},
      "cell_type": "markdown",
      "source": "## Vraag 5\nKijk naar de volgende https://github.com/biopython/biopython/blob/master/Bio/Data/CodonTable.py en beantwoord de volgende vragen\n\n1. Hoeveel classes tel je?\n2. Waarom heeft NCBICodonTable geen `__str__` methode?\n3. Hoeveel dunder methods heeft AmbiguousForwardTable? Welke?\n4. Maak een classe diagram met de classes en hun relaties waarin je ook aangeeft wat private, protected en public is."
    }
  ],
  "metadata": {
    "kernelspec": {
      "name": "python36",
      "display_name": "Python 3.6",
      "language": "python"
    },
    "language_info": {
      "mimetype": "text/x-python",
      "nbconvert_exporter": "python",
      "name": "python",
      "pygments_lexer": "ipython3",
      "version": "3.6.6",
      "file_extension": ".py",
      "codemirror_mode": {
        "version": 3,
        "name": "ipython"
      }
    }
  },
  "nbformat": 4,
  "nbformat_minor": 2
}