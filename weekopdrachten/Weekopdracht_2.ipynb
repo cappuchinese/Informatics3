{
 "cells": [
  {
   "cell_type": "markdown",
   "metadata": {
    "collapsed": true
   },
   "source": [
    "# Week 2 \n",
    "\n",
    "In deze week kijken we naar de principes van over erven en overschrijven van code. Ook denken we na over efficiente code"
   ]
  },
  {
   "cell_type": "markdown",
   "metadata": {},
   "source": [
    "## opdracht 1\n",
    "\n",
    "1. Creer een basis class Animal. De Animal heeft de volgende eigenschappen: type voedsel wat het eet, heeft honger ja of nee en de locatie van zijn verblijf. De Animal kan lawaai maken, eten, slapen en 'roamen'. De Animal honger status is default ja. \n",
    "2. Maak ook een class diagram voor deze classe. \n",
    "3. Maak een test case voor deze classe\n"
   ]
  },
  {
   "cell_type": "code",
   "execution_count": null,
   "metadata": {},
   "outputs": [],
   "source": [
    "class Animal:\n",
    "    def __init__(self, food, location, hunger=True):\n",
    "        self.food = food\n",
    "        self.hunger = hunger\n",
    "        self.location = location\n",
    "\n",
    "    def __str__(self):\n",
    "        return type(self).__name__ + \"I'm hungry!\"\n",
    "\n",
    "    def make_noise(self, sound):\n",
    "        print(type(self).__name__ + \"I make noise: \" + sound)\n"
   ]
  },
  {
   "cell_type": "markdown",
   "metadata": {},
   "source": [
    "## Opdracht 2\n",
    "\n",
    "1. Creer een class Hippo van het type Animal. De Hippo kan geluid maken en eten. Schrijf hiervoor de code.\n",
    "2. maak een test case voor deze Hippo classe\n"
   ]
  },
  {
   "cell_type": "code",
   "execution_count": 1,
   "metadata": {},
   "outputs": [
    {
     "ename": "NameError",
     "evalue": "name 'Animal' is not defined",
     "output_type": "error",
     "traceback": [
      "\u001B[1;31m---------------------------------------------------------------------------\u001B[0m",
      "\u001B[1;31mNameError\u001B[0m                                 Traceback (most recent call last)",
      "\u001B[1;32m<ipython-input-1-2f40047ebf14>\u001B[0m in \u001B[0;36m<module>\u001B[1;34m\u001B[0m\n\u001B[1;32m----> 1\u001B[1;33m \u001B[1;32mclass\u001B[0m \u001B[0mHippo\u001B[0m\u001B[1;33m(\u001B[0m\u001B[0mAnimal\u001B[0m\u001B[1;33m)\u001B[0m\u001B[1;33m:\u001B[0m\u001B[1;33m\u001B[0m\u001B[1;33m\u001B[0m\u001B[0m\n\u001B[0m\u001B[0;32m      2\u001B[0m     \u001B[1;32mdef\u001B[0m \u001B[0mmake_noise\u001B[0m\u001B[1;33m(\u001B[0m\u001B[0mself\u001B[0m\u001B[1;33m,\u001B[0m \u001B[0msound\u001B[0m\u001B[1;33m)\u001B[0m\u001B[1;33m:\u001B[0m\u001B[1;33m\u001B[0m\u001B[1;33m\u001B[0m\u001B[0m\n\u001B[0;32m      3\u001B[0m         \u001B[0mprint\u001B[0m\u001B[1;33m(\u001B[0m\u001B[0mtype\u001B[0m\u001B[1;33m(\u001B[0m\u001B[0mself\u001B[0m\u001B[1;33m)\u001B[0m\u001B[1;33m.\u001B[0m\u001B[0m__name__\u001B[0m \u001B[1;33m+\u001B[0m \u001B[1;34m\"I make lots of noice: \"\u001B[0m \u001B[1;33m+\u001B[0m \u001B[0msound\u001B[0m\u001B[1;33m)\u001B[0m\u001B[1;33m\u001B[0m\u001B[1;33m\u001B[0m\u001B[0m\n\u001B[0;32m      4\u001B[0m \u001B[1;33m\u001B[0m\u001B[0m\n\u001B[0;32m      5\u001B[0m     \u001B[1;32mdef\u001B[0m \u001B[0meat\u001B[0m\u001B[1;33m(\u001B[0m\u001B[0mself\u001B[0m\u001B[1;33m)\u001B[0m\u001B[1;33m:\u001B[0m\u001B[1;33m\u001B[0m\u001B[1;33m\u001B[0m\u001B[0m\n",
      "\u001B[1;31mNameError\u001B[0m: name 'Animal' is not defined"
     ]
    }
   ],
   "source": [
    "class Hippo(Animal):\n",
    "    def make_noise(self, sound):\n",
    "        print(type(self).__name__ + \"I make lots of noice: \" + sound)\n",
    "\n",
    "    def eat(self):\n",
    "        print(type(self).__name__ + \"I eat a lot of \" + self.food)\n",
    "\n",
    "\n",
    "hippo = Hippo(\"grass\", \"pond\")\n",
    "hippo.eat()\n",
    "hippo.make_noise(\"noise\")\n"
   ]
  },
  {
   "cell_type": "markdown",
   "metadata": {},
   "source": [
    "## Opdracht 3\n",
    "\n",
    "1. Creer classes van het type Animal voor Cat, Lion en Tiger. Al deze dieren kunnen geluid maken, eten en roamen\n",
    "2. maak een test case voor de classes"
   ]
  },
  {
   "cell_type": "code",
   "execution_count": null,
   "metadata": {},
   "outputs": [],
   "source": [
    "class CatLike(Animal):\n",
    "    def make_noise(self, sound):\n",
    "        print(f\"{type(self).__name__} make sounds: {sound}\")\n",
    "\n",
    "    def eat(self):\n",
    "        print(f\"{type(self).__name__} also eats {self.food}\")\n",
    "\n",
    "    def roam(self):\n",
    "        print(type(self).__name__ + \"is roaming\")"
   ]
  },
  {
   "cell_type": "markdown",
   "metadata": {},
   "source": [
    "## Opdracht 4\n",
    "\n",
    "1. Creer classes van het type Animal voor Wolf en Hond. Al deze dieren kunnen geluid maken, eten en roamen\n",
    "2. maak een test case voor de classes"
   ]
  },
  {
   "cell_type": "code",
   "execution_count": null,
   "metadata": {},
   "outputs": [],
   "source": []
  },
  {
   "cell_type": "markdown",
   "metadata": {},
   "source": [
    "## Opdracht 5\n",
    "\n",
    "1. Doe je dingen nu eigenlijk toch nog dubbel? Kun je nog iets abstraheren? \n",
    "2. Refactor je code \n",
    "3. Maak een classe diagram van je uiteindelijke oplossing\n",
    "\n"
   ]
  },
  {
   "cell_type": "code",
   "execution_count": null,
   "metadata": {},
   "outputs": [],
   "source": []
  },
  {
   "cell_type": "markdown",
   "metadata": {},
   "source": [
    "## Challenge: Verander 'Is a' in a 'Has a' structuur. \n",
    "\n",
    "Deze challenge is voor als je het leuk vind om je zelf uit te dagen\n",
    "\n",
    "Bekijk de code uit de voorbeelscripts: solid_ISP_good.py\n",
    "\n",
    "1. waar zie je de implementatie van `Has A` in plaats van `Is A`?\n",
    "2. Wat valt je op aan de base classes?\n",
    "3. Waarom is deze code efficienter dan code die alleen maar overerft?\n",
    "4. Refactor de Animal code op zo'n manier dat je gebruik maakt van behavior classes en abstract classes\n"
   ]
  },
  {
   "cell_type": "markdown",
   "metadata": {},
   "source": [
    "Lever de code van de Animal classes in een script in op blackboard. Lever ook je classe diagram in. Check je code voordat je hem upload met \n",
    "1. black\n",
    "2. pylint\n",
    "\n",
    "Tip: met pyreverse kun je ook een classe diagram maken"
   ]
  }
 ],
 "metadata": {
  "kernelspec": {
   "name": "python3",
   "language": "python",
   "display_name": "Python 3"
  },
  "language_info": {
   "codemirror_mode": {
    "name": "ipython",
    "version": 3
   },
   "file_extension": ".py",
   "mimetype": "text/x-python",
   "name": "python",
   "nbconvert_exporter": "python",
   "pygments_lexer": "ipython3",
   "version": "3.7.6"
  }
 },
 "nbformat": 4,
 "nbformat_minor": 2
}