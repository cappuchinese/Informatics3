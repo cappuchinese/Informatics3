{
 "cells": [
  {
   "cell_type": "markdown",
   "metadata": {},
   "source": [
    "# Week 1 opdracht\n",
    "\n",
    "Middels deelopdrachten maak je twee klassen: de klasse `Protein` en de klasse `RestrictionEnzyme`. Lever de beide klassen in via blackboard"
   ]
  },
  {
   "cell_type": "markdown",
   "metadata": {},
   "source": [
    "### Assignment 1: Create a class that models/represents proteins:\n",
    "Instantiate the class (make an object of class `Protein`) and give it the attributes `name` and `sequence` (which is to hold an amino acid sequence). Then print those attributes to screen."
   ]
  },
  {
   "cell_type": "code",
   "execution_count": 1,
   "metadata": {},
   "outputs": [
    {
     "name": "stdout",
     "output_type": "stream",
     "text": [
      "Protein: name Glucose-6-phospatase, sequence: MEEGMNVLHDFGIQSTHYLQVNYQAVVPLASVSVIPYCLAQVLGQPHKKSL\n"
     ]
    }
   ],
   "source": [
    "class Protein():\n",
    "    #do not modify this\n",
    "    pass\n",
    "\n",
    "\n",
    "p = Protein()\n",
    "p.name = \"Glucose-6-phospatase\"\n",
    "p.sequence = \"MEEGMNVLHDFGIQSTHYLQVNYQAVVPLASVSVIPYCLAQVLGQPHKKSL\"\n",
    "\n",
    "print(f\"Protein: name={p.name}, sequence={p.sequence}\")\n",
    "# put your code here to instantiate a Protein object and print the attributes to screen\n",
    "# expected outcome: \n",
    "#\n",
    "# Protein: name=Glucose-6-phospatase, sequence=MEEGMNVLHDFGIQSTHYLQVNYQAVVPLASVSVIPYCLAQVLGQPHKKSL"
   ]
  },
  {
   "cell_type": "markdown",
   "metadata": {},
   "source": [
    "### Assignment 2: Create a class that models/represents proteins:\n",
    "Now make the attributes `name` and amino acid `sequence` mandatory by specifying them in the **constructor**. Again, instantiate a `Protein` object and print the attributes to screen.\n"
   ]
  },
  {
   "cell_type": "code",
   "execution_count": 3,
   "metadata": {},
   "outputs": [
    {
     "name": "stdout",
     "output_type": "stream",
     "text": [
      "<__main__.Protein object at 0x00000210BE9575B0>\n"
     ]
    }
   ],
   "source": [
    "class Protein:\n",
    "    # ADD YOUR CODE HERE\n",
    "    def __init__(self, name, seq):\n",
    "        self.name = name\n",
    "        self.sequence = seq\n",
    "\n",
    "p = Protein(\"Glucose-6-phospatase\", \"MEEGMNVLHDFGIQSTHYLQVNYQAVVPLASVSVIPYCLAQVLGQPHKKSL\")\n",
    "print(p)\n",
    "# put your code here to instantiate a Protein object and print the attributes to screen\n",
    "# expected outcome: \n",
    "#\n",
    "# Protein: name=Glucose-6-phospatase, sequence=MEEGMNVLHDFGIQSTHYLQVNYQAVVPLASVSVIPYCLAQVLGQPHKKSL"
   ]
  },
  {
   "cell_type": "markdown",
   "metadata": {},
   "source": [
    "### Assignment 3: Create a class that models/represents proteins:\n",
    "Next, change the constructor to make the attribute `name` optional - give it the default value “UNNAMED PROTEIN”. Demonstrate construction of a `Protein` object both with and without name."
   ]
  },
  {
   "cell_type": "code",
   "execution_count": 2,
   "metadata": {},
   "outputs": [],
   "source": [
    "class Protein:\n",
    "    def __init__(self, seq, name=\"UNNAMED PROTEIN\"):\n",
    "        self.sequence = seq\n",
    "        self.name = name\n",
    "    #modify this\n",
    "    pass\n",
    "\n",
    "# Put your code here to instantiate a Protein object and print the attributes to screen\n",
    "# Do this twice: one time with and one time without the (now optional) name-attribute"
   ]
  },
  {
   "cell_type": "markdown",
   "metadata": {},
   "source": [
    "### Assignment 4: Create a class that models/represents proteins:\n",
    "Now, create a method that will generate a human-readable string representation of a `Protein` object when passed to `print()`. Take care that sequences longer than 20 amino acids get truncated. Hint: use `__str__`\n",
    "\n"
   ]
  },
  {
   "cell_type": "code",
   "execution_count": 17,
   "metadata": {},
   "outputs": [],
   "source": [
    "class Protein:\n",
    "    def __str__(self):\n",
    "        print(\"Protein object\")\n",
    "    pass\n",
    "\n",
    "# put your code here to instantiate a Protein object and print \n",
    "# the a human-readable string representation to screen"
   ]
  },
  {
   "cell_type": "markdown",
   "metadata": {},
   "source": [
    "### Assignment 5: Create a class that models/represents proteins:\n",
    "Create a method that will generate a string representation of the protein in Fasta format. Read [this wikipedia lemma on the format](https://en.wikipedia.org/wiki/FASTA_format) if you are not sure about it."
   ]
  },
  {
   "cell_type": "code",
   "execution_count": 18,
   "metadata": {},
   "outputs": [],
   "source": [
    "class Protein():\n",
    "    #modify this\n",
    "    def tofasta(self, file_):\n",
    "        seq =  \"\"\n",
    "        for line in file_:\n",
    "            if not line.startswith(\">\"):\n",
    "                seq += line\n",
    "        return seq\n",
    "        pass\n",
    "    \n",
    "# initiate an object to test it"
   ]
  },
  {
   "cell_type": "markdown",
   "metadata": {},
   "source": [
    "### Assignment 6: Create a class that models/represents restriction enzymes, \n",
    "Create a constructor that takes two arguments, the name and the recognition sequence.\n"
   ]
  },
  {
   "cell_type": "code",
   "execution_count": 19,
   "metadata": {},
   "outputs": [],
   "source": [
    "class RestrictionEnzyme():\n",
    "    def __init__(self, name, recseq):\n",
    "        self.name = name\n",
    "        self.recseq = recseq\n",
    "    pass"
   ]
  },
  {
   "cell_type": "markdown",
   "metadata": {},
   "source": [
    "### Assignment 7: Create a class that models/represents restriction enzymes\n",
    "Create a method that will generate a human-readable string representation of a `RestrictionEnzyme` object when passed to `print()`. (see assignment 4)"
   ]
  },
  {
   "cell_type": "code",
   "execution_count": 20,
   "metadata": {},
   "outputs": [],
   "source": [
    "class RestrictionEnzyme():\n",
    "    def __init__(self, name, recseq):\n",
    "        self.name = name\n",
    "        self.recseq = recseq\n",
    "\n",
    "    def __str__(self):\n",
    "        return f\"{self.name} {self.recseq}\"\n",
    "    \n",
    "enz = RestrictionEnzyme(\"some enzyme\", \"some sequence\")"
   ]
  },
  {
   "cell_type": "markdown",
   "metadata": {},
   "source": [
    "### Assignment 8: Refactor\n",
    "Modify the script below to make use of objects of the `RestrictionEnzyme` class, that models the tuples in the list. Implement and use the `__str__()` method as well."
   ]
  },
  {
   "cell_type": "code",
   "execution_count": 21,
   "metadata": {},
   "outputs": [
    {
     "name": "stdout",
     "output_type": "stream",
     "text": [
      "HincII [GTYRAC]: position=3, sequence=GTCGAC\n",
      "HincII [GTYRAC]: position=16, sequence=GTTGAC\n",
      "HpyCH4III [ACNGT]: position=0, sequence=ACAGT\n",
      "HpyCH4III [ACNGT]: position=30, sequence=ACGGT\n",
      "AluI [AGCT]: position=26, sequence=AGCT\n",
      "AluI [AGCT]: position=38, sequence=AGCT\n"
     ]
    }
   ],
   "source": [
    "# copy this code and modify the copied code\n",
    "import re\n",
    "seq = 'ACAGTCGACTGATCGGGTTGACCCATAGCTACGGTGAAAGCTT'\n",
    "resEnz=[\n",
    "  ('HincII', 'GT[CT][AG]AC', 'GTYRAC'),\n",
    "  ('HpyCH4III', 'AC[ACGT]GT', 'ACNGT'),\n",
    "  ('AluI', 'AGCT', 'AGCT')\n",
    "]\n",
    "for entry in resEnz:\n",
    "  recSeq = entry[1]\n",
    "  p = re.compile(recSeq)\n",
    "  for m in p.finditer(seq):\n",
    "    print( '{} [{}]: position={}, sequence={}'.format(entry[0], entry[2], m.start(), m.group())) "
   ]
  }
 ],
 "metadata": {
  "kernelspec": {
   "display_name": "Python 3",
   "language": "python",
   "name": "python3"
  },
  "language_info": {
   "codemirror_mode": {
    "name": "ipython",
    "version": 3
   },
   "file_extension": ".py",
   "mimetype": "text/x-python",
   "name": "python",
   "nbconvert_exporter": "python",
   "pygments_lexer": "ipython3",
   "version": "3.9.1"
  }
 },
 "nbformat": 4,
 "nbformat_minor": 2
}