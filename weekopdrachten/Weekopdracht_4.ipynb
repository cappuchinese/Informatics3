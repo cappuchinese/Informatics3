{
  "cells": [
    {
      "metadata": {},
      "cell_type": "markdown",
      "source": "# Plotting Corona virus\n\nEr zijn verschillende websites die visualisaties maken van het corona virus. Een bekende is \n\nhttps://gisanddata.maps.arcgis.com/apps/opsdashboard/index.html#/bda7594740fd40299423467b48e9ecf6\n\nMaar hoe wordt die gemaakt? In dit notebook kijken we naar verschillende visualisaties van het virus. Data kun je vinden op \n\nhttps://github.com/CSSEGISandData/COVID-19/tree/master/csse_covid_19_data\n"
    },
    {
      "metadata": {},
      "cell_type": "markdown",
      "source": "## Geomap\n\nLaten we kijken naar de confirmed cases op een map. De data is gehaald van de website. Note: mplleaflet moet je mogelijk installeren. Dat kan met pip install"
    },
    {
      "metadata": {
        "trusted": true
      },
      "cell_type": "code",
      "source": "import pandas as pd\nimport numpy as np\nimport matplotlib.pyplot as plt\nimport mplleaflet\nimport warnings\n\nurl = \"https://raw.githubusercontent.com/CSSEGISandData/COVID-19/master/csse_covid_19_data/csse_covid_19_daily_reports/03-11-2020.csv\"\ndata = pd.read_csv(url)\n#data = pd.read_csv('data/data.csv')\nlat = np.array(data['Latitude'])\nlong = np.array(data['Longitude'])\nsize = np.array(data['Confirmed'])\ndata.head()\n",
      "execution_count": null,
      "outputs": []
    },
    {
      "metadata": {
        "scrolled": true,
        "trusted": true
      },
      "cell_type": "code",
      "source": "warnings.filterwarnings('ignore')\ndef leaflet_plot_location(lon=[5.8878] , lat=[52.0614], size=[200]):\n    scale = size.max() - size.min()\n    size = size / scale * 10000\n    \n    plt.figure(figsize=(8,8))\n\n    zipped = zip(lon, lat, size)\n    plt.scatter(lon, lat, c='r', alpha=0.7, s=size)\n\n    return mplleaflet.display()\n\nleaflet_plot_location(lon=long, lat=lat, size = size)",
      "execution_count": null,
      "outputs": []
    },
    {
      "metadata": {},
      "cell_type": "markdown",
      "source": "Dit is natuurlijk een interessante visualisatie maar er is nog veel meer te inspecteren. \n\n## Opdracht plotjes\n\nmaak een barplot van 4 landen"
    },
    {
      "metadata": {},
      "cell_type": "markdown",
      "source": "## Time series\nLaten we eens naar de time series data kijken"
    },
    {
      "metadata": {
        "trusted": true
      },
      "cell_type": "code",
      "source": "#Allereerst laden we de data",
      "execution_count": null,
      "outputs": []
    },
    {
      "metadata": {
        "trusted": true
      },
      "cell_type": "code",
      "source": "import pandas as pd\nurl = \"https://raw.githubusercontent.com/CSSEGISandData/COVID-19/master/csse_covid_19_data/csse_covid_19_time_series/time_series_19-covid-Confirmed.csv\"\ndata_t = pd.read_csv(url)\n#data_t = pd.read_csv('data/timedata.csv')\ndata_t.head()",
      "execution_count": 2,
      "outputs": [
        {
          "output_type": "execute_result",
          "execution_count": 2,
          "data": {
            "text/html": "<div>\n<table border=\"1\" class=\"dataframe\">\n  <thead>\n    <tr style=\"text-align: right;\">\n      <th></th>\n      <th>Province/State</th>\n      <th>Country/Region</th>\n      <th>Lat</th>\n      <th>Long</th>\n      <th>1/22/20</th>\n      <th>1/23/20</th>\n      <th>1/24/20</th>\n      <th>1/25/20</th>\n      <th>1/26/20</th>\n      <th>1/27/20</th>\n      <th>...</th>\n      <th>3/2/20</th>\n      <th>3/3/20</th>\n      <th>3/4/20</th>\n      <th>3/5/20</th>\n      <th>3/6/20</th>\n      <th>3/7/20</th>\n      <th>3/8/20</th>\n      <th>3/9/20</th>\n      <th>3/10/20</th>\n      <th>3/11/20</th>\n    </tr>\n  </thead>\n  <tbody>\n    <tr>\n      <th>0</th>\n      <td>NaN</td>\n      <td>Thailand</td>\n      <td>15.0000</td>\n      <td>101.0000</td>\n      <td>2</td>\n      <td>3</td>\n      <td>5</td>\n      <td>7</td>\n      <td>8</td>\n      <td>8</td>\n      <td>...</td>\n      <td>43</td>\n      <td>43</td>\n      <td>43</td>\n      <td>47</td>\n      <td>48</td>\n      <td>50</td>\n      <td>50</td>\n      <td>50</td>\n      <td>53</td>\n      <td>59</td>\n    </tr>\n    <tr>\n      <th>1</th>\n      <td>NaN</td>\n      <td>Japan</td>\n      <td>36.0000</td>\n      <td>138.0000</td>\n      <td>2</td>\n      <td>1</td>\n      <td>2</td>\n      <td>2</td>\n      <td>4</td>\n      <td>4</td>\n      <td>...</td>\n      <td>274</td>\n      <td>293</td>\n      <td>331</td>\n      <td>360</td>\n      <td>420</td>\n      <td>461</td>\n      <td>502</td>\n      <td>511</td>\n      <td>581</td>\n      <td>639</td>\n    </tr>\n    <tr>\n      <th>2</th>\n      <td>NaN</td>\n      <td>Singapore</td>\n      <td>1.2833</td>\n      <td>103.8333</td>\n      <td>0</td>\n      <td>1</td>\n      <td>3</td>\n      <td>3</td>\n      <td>4</td>\n      <td>5</td>\n      <td>...</td>\n      <td>108</td>\n      <td>110</td>\n      <td>110</td>\n      <td>117</td>\n      <td>130</td>\n      <td>138</td>\n      <td>150</td>\n      <td>150</td>\n      <td>160</td>\n      <td>178</td>\n    </tr>\n    <tr>\n      <th>3</th>\n      <td>NaN</td>\n      <td>Nepal</td>\n      <td>28.1667</td>\n      <td>84.2500</td>\n      <td>0</td>\n      <td>0</td>\n      <td>0</td>\n      <td>1</td>\n      <td>1</td>\n      <td>1</td>\n      <td>...</td>\n      <td>1</td>\n      <td>1</td>\n      <td>1</td>\n      <td>1</td>\n      <td>1</td>\n      <td>1</td>\n      <td>1</td>\n      <td>1</td>\n      <td>1</td>\n      <td>1</td>\n    </tr>\n    <tr>\n      <th>4</th>\n      <td>NaN</td>\n      <td>Malaysia</td>\n      <td>2.5000</td>\n      <td>112.5000</td>\n      <td>0</td>\n      <td>0</td>\n      <td>0</td>\n      <td>3</td>\n      <td>4</td>\n      <td>4</td>\n      <td>...</td>\n      <td>29</td>\n      <td>36</td>\n      <td>50</td>\n      <td>50</td>\n      <td>83</td>\n      <td>93</td>\n      <td>99</td>\n      <td>117</td>\n      <td>129</td>\n      <td>149</td>\n    </tr>\n  </tbody>\n</table>\n<p>5 rows × 54 columns</p>\n</div>",
            "text/plain": "  Province/State Country/Region      Lat      Long  1/22/20  1/23/20  1/24/20  \\\n0            NaN       Thailand  15.0000  101.0000        2        3        5   \n1            NaN          Japan  36.0000  138.0000        2        1        2   \n2            NaN      Singapore   1.2833  103.8333        0        1        3   \n3            NaN          Nepal  28.1667   84.2500        0        0        0   \n4            NaN       Malaysia   2.5000  112.5000        0        0        0   \n\n   1/25/20  1/26/20  1/27/20   ...     3/2/20  3/3/20  3/4/20  3/5/20  3/6/20  \\\n0        7        8        8   ...         43      43      43      47      48   \n1        2        4        4   ...        274     293     331     360     420   \n2        3        4        5   ...        108     110     110     117     130   \n3        1        1        1   ...          1       1       1       1       1   \n4        3        4        4   ...         29      36      50      50      83   \n\n   3/7/20  3/8/20  3/9/20  3/10/20  3/11/20  \n0      50      50      50       53       59  \n1     461     502     511      581      639  \n2     138     150     150      160      178  \n3       1       1       1        1        1  \n4      93      99     117      129      149  \n\n[5 rows x 54 columns]"
          },
          "metadata": {}
        }
      ]
    },
    {
      "metadata": {
        "trusted": true
      },
      "cell_type": "code",
      "source": "data_t.index = data_t['Country/Region']\ndata_t = data_t.drop('Province/State', axis = 1)\ndata_t = data_t.drop('Country/Region', axis = 1)\ndata_t = data_t.drop('Lat', axis = 1)\ndata_t = data_t.drop('Long', axis = 1)\ndata_t.head()",
      "execution_count": null,
      "outputs": []
    },
    {
      "metadata": {
        "trusted": true
      },
      "cell_type": "code",
      "source": "# dan laden we x en y\nx = data_t.columns.values.tolist()\nnl= np.array(data_t.iloc[42])\nit= np.array(data_t.iloc[16])\nplt.plot(x, nl, label=\"Nederland\")\nplt.plot(x, it, label=\"Italië\")\nplt.legend()\nplt.show()",
      "execution_count": null,
      "outputs": []
    },
    {
      "metadata": {},
      "cell_type": "markdown",
      "source": "# Opdracht\n1. Maak de labels van de time series mooier. Plot ook Sweden of andere landen. Maak een zwarte achtergrond met dikke lijnen\n\n# Challenge\nMaak een plot van confirmed, death en recovered. De data staat op https://github.com/CSSEGISandData/COVID-19/tree/master/csse_covid_19_data"
    },
    {
      "metadata": {},
      "cell_type": "markdown",
      "source": "## Data object\n\nMaak een object dat de data laadt en in een x, y format opslaat\ngebruik nu dat object voor een plaatje"
    }
  ],
  "metadata": {
    "kernelspec": {
      "name": "python3",
      "display_name": "Python 3",
      "language": "python"
    },
    "language_info": {
      "mimetype": "text/x-python",
      "nbconvert_exporter": "python",
      "name": "python",
      "pygments_lexer": "ipython3",
      "version": "3.5.4",
      "file_extension": ".py",
      "codemirror_mode": {
        "version": 3,
        "name": "ipython"
      }
    }
  },
  "nbformat": 4,
  "nbformat_minor": 4
}