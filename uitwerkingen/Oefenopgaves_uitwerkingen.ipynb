{
  "cells": [
    {
      "metadata": {
        "collapsed": true
      },
      "cell_type": "markdown",
      "source": "# Oefenvragen uitwerkingen\nOnderstaande vragen zijn uitwerkingen van de oefenopgaven. Mogelijk heb je zelf andere uitwerkingen.  "
    },
    {
      "metadata": {},
      "cell_type": "markdown",
      "source": "## Vraag 1"
    },
    {
      "metadata": {
        "trusted": false
      },
      "cell_type": "code",
      "source": "import re\ndef vraag1(my_list):\n    \"\"\"\n    Gegeven een lijst met getallen, maak een nieuwe lijst die alleen de getallen bevat\n    die deelbaar zijn door 3. Maak hierbij gebruik van `filter`. Laat dit zien aan de hand\n    van deze lijst: [4,2,5,3,6,4,7]\n    \"\"\"\n    print(list(filter(lambda x: x % 3 == 0, my_list)))\n\nvraag1([4, 2, 5, 3, 6, 4, 7])",
      "execution_count": 1,
      "outputs": [
        {
          "name": "stdout",
          "output_type": "stream",
          "text": "[3, 6]\n"
        }
      ]
    },
    {
      "metadata": {},
      "cell_type": "markdown",
      "source": "## Vraag 2"
    },
    {
      "metadata": {
        "trusted": false
      },
      "cell_type": "code",
      "source": "def vraag2(aa_list):\n    \"\"\"\n    Gegeven deze aminozuurvolgordes van de katalytische site van een bepaalde\n    groep enzymen: \"WGKHVHVLH\", \"YGRHVVHVLH\", \"YGKHVMHVLH\", \"WGRHMVHILH\",\n    \"WGKHVHIIH\". Maak de meest specifieke reguliere expressie die deze volgordes\n    definieert. Laat door middel van code zien dat het patroon op alle volgordes van\n    toepassing is. Als je patroon goed is, zal deze volgorde juist geen match geven:\n    \"YGKHVHLILH\". Je kunt de volgordes vinden in vinden in de file data.py (te vinden in data/).\n    \"\"\"\n    pat = \"[WY]G[KR]H[VM]{1,2}H[ILV]{1,2}H\"\n    solution = [word for word in aa_list if re.match(pat, word)]\n    return solution\n\npositive = [\"WGKHVHVLH\", \"YGRHVVHVLH\", \"YGKHVMHVLH\", \"WGRHMVHILH\"]\nnegative = [\"YGKHVHLILH\"]\nprint(vraag2(positive))\nprint(vraag2(negative))",
      "execution_count": 2,
      "outputs": [
        {
          "name": "stdout",
          "output_type": "stream",
          "text": "['WGKHVHVLH', 'YGRHVVHVLH', 'YGKHVMHVLH', 'WGRHMVHILH']\n[]\n"
        }
      ]
    },
    {
      "metadata": {},
      "cell_type": "markdown",
      "source": "## Vraag 3\nEnzymen vallen onder een groep van eiwitten die bepaalde chemische reacties\nversnellen. Enzymen zijn meestal actief in een of meerdere biochemisch routes\n(pathways). Een pathway bestaat uit een serie chemische reacties die\nachtereenvolgens door verschillende enzymen worden uitgevoerd. Bijvoorbeeld, de\neerste drie stappen van de glycolyse bestaan uit (1) de omzetting van glucose naar\nglucose-6-fosfaat door het enzym hexokinase (2) de omzetting van glucose-6-fosfaat\nnaar fructose-6-fosfaat door het enzym fosfoglucose isomerase en (3) de omzetting\nvan fructose-6-fosfaat naar fructose-1,6-bisfosfaat door het enzym fosfofructokinase.\n\nModelleer nu dit principe aan de hand van deze opdrachten\n\nA. Implementeer de klasse Enzyme. Geef een implementatie van een\nconstructor, `__init__()`. De constructor moet de naam van het enzym\nhet substraat en het product van de omzetting meekrijgen.\n\nB. Implementeer de klasse Pathway. Geef een implementatie van een\nconstructor, `__init__()`, die de naam van de pathway en een lijst met\nEnzym-objecten moet krijgen waaruit de Pathway bestaat.\n\nC. Implementeer voor beide klassen de methode `__str__()` op een logische\nen correcte manier.\n\nD. Zorg dat op objecten van type Pathway als argument aan de built-in functie\n`len()` gegeven kunnen worden en dan een logische waarde retourneren.\n\nE. Zorg dat objecten van het type Pathway **itereerbaar** zijn op de Enzymen die\nze bevatten. Demonstreer het gebruik hiervan met een `for-loop`."
    },
    {
      "metadata": {
        "trusted": false
      },
      "cell_type": "code",
      "source": "class Enzyme:\n\n    def __init__(self, enzyme, substrate, product):\n        self.enzyme = enzyme\n        self.substrate = substrate\n        self.product = product\n\n    def __str__(self):\n        return \"Hello my name is: {}, I make from {} -> {}\".format(self.enzyme, self.substrate, self.product)\n\nclass Pathway:\n\n    def __init__(self, pathway, enzymes):\n        self.name = pathway\n        self.enzymes = enzymes\n        self.index = 0\n\n    def __str__(self):\n            return \"Hello my name is: {}, I exist of {} enzymes\".format(self.name, len(self.enzymes))\n\n    def __len__(self):\n        return len(self.enzymes)\n\n    def __iter__(self):\n        return self\n\n    def __next__(self):\n        if self.index == len(self.enzymes):\n            self.index = 0\n            raise StopIteration\n        else:\n            self.index += 1\n        return self.enzymes[self.index-1]\n    \n    \n# test code\nmy_enzymes = [Enzyme('hexokinase', 'glucose', 'glucose-6-fosfaat'), Enzyme('fosfoglucose isomerase', 'glucose-6-fosfaat', 'fructose-6-fosfaat'), Enzyme('fosfofructokinase', 'fructose-6-fosfaat', 'fructose-1,6-bisfosfaat')]\nmy_pathway = Pathway('glycolyse', my_enzymes)\nfor e in my_pathway:\n    print(e)\n",
      "execution_count": 3,
      "outputs": [
        {
          "name": "stdout",
          "output_type": "stream",
          "text": "Hello my name is: hexokinase, I make from glucose -> glucose-6-fosfaat\nHello my name is: fosfoglucose isomerase, I make from glucose-6-fosfaat -> fructose-6-fosfaat\nHello my name is: fosfofructokinase, I make from fructose-6-fosfaat -> fructose-1,6-bisfosfaat\n"
        }
      ]
    },
    {
      "metadata": {},
      "cell_type": "markdown",
      "source": "## Vraag 4\nGegeven de volgende lijst: [2,1,0,2,4,'foo',3,4,0,5].\n\nA. Gebruik een “for-loop” die voor elk element in de bovenstaande lijst\n1/element berekent. \n\nB. Bij het uitvoeren van vraag 4A krijg je twee typen Errors. Maak je eigen\nexceptie class (MyException) die bij het verkrijgen van een error het type\nerror checkt en hier een melding van doet. Gebruik hierbij de magic methods\n`__str__()` en `__name__` \n\nC. Geef aan het einde van het doorlopen van de lijst het totaal aantal errors\ndie zijn voorgevallen weer. \n\nDe verwachte output is hieronder te vinden\n"
    },
    {
      "metadata": {},
      "cell_type": "raw",
      "source": "0.5\n1.0\nZeroDivisionError Can't divide 1 by 0\n0.5\n0.25\nTypeError Can't divide 1 by String \"foo\"\n0.3333333333333333\n0.25\nZeroDivisionError Can't divide 1 by 0\n0.2\n# errors's: 3"
    },
    {
      "metadata": {
        "trusted": false
      },
      "cell_type": "code",
      "source": "class MyException(Exception):\n    def __init__(self, error, n=1):\n        self.error = error\n        self.n = n\n        self.errors = 0\n\n    def __str__(self):\n        if type(self.error).__name__ == 'ZeroDivisionError':\n            return type(self.error).__name__ + \" Can't divide 1 by \" + str(self.n)\n        elif type(self.error).__name__ == 'TypeError':\n            return type(self.error).__name__ + \" Can't divide 1 by String \\\"\" + str(self.n) + \"\\\"\"\n        \n\nnums = [2,1,0,2,4,'foo',3,4,0,5]\nerrors = 0\nfor i in nums:\n    try:\n        print(1/i)\n    except Exception as ex:\n        print(MyException(ex, i))\n        errors +=1\n        print(errors)\n        \nprint('# errors\\'s: {}'.format(errors))",
      "execution_count": 4,
      "outputs": [
        {
          "name": "stdout",
          "output_type": "stream",
          "text": "0.5\n1.0\nZeroDivisionError Can't divide 1 by 0\n1\n0.5\n0.25\nTypeError Can't divide 1 by String \"foo\"\n2\n0.3333333333333333\n0.25\nZeroDivisionError Can't divide 1 by 0\n3\n0.2\n# errors's: 3\n"
        }
      ]
    },
    {
      "metadata": {},
      "cell_type": "markdown",
      "source": "## Vraag 5\nKijk naar de volgende https://github.com/biopython/biopython/blob/master/Bio/Data/CodonTable.py en beantwoord de volgende vragen\n\n1. Hoeveel classes tel je?\n\n    1.\tclass TranslationError(Exception)\n    2.\tclass CodonTable\n    3.\tclass AmbiguousCodonTable(CodonTable)\n    4.\tclass NCBICodonTable(CodonTable)\n    5.\tclass NCBICodonTableDNA(NCBICodonTable)\n    6.\tclass NCBICodonTableRNA(NCBICodonTable)\n    7.\tclass AmbiguousForwardTable\n\n2. Waarom heeft NCBICodonTable geen `__str__` methode?\n      1. Het heeft een `__repr__` methode het overerft de `__str__` methode van CodonTable en het heeft blijkbaar geen overloading nodig\n      \n3. Hoeveel dunder methods heeft AmbiguousForwardTable? Welke?\n\n    1. De constructor `__init__`\n    2. De `__contains__` methode\n    3. De `__getitem__` methode\n\n4. Maak een classe diagram met de classes en hun relaties waarin je ook aangeeft wat private, protected en public is."
    },
    {
      "metadata": {},
      "cell_type": "markdown",
      "source": "\n<img src=\"images/classes.png\" alt=\"codontable\" width=\"600\" height=\"600\" align = \"left\">"
    }
  ],
  "metadata": {
    "kernelspec": {
      "name": "python3",
      "display_name": "Python 3",
      "language": "python"
    },
    "language_info": {
      "mimetype": "text/x-python",
      "nbconvert_exporter": "python",
      "name": "python",
      "pygments_lexer": "ipython3",
      "version": "3.5.4",
      "file_extension": ".py",
      "codemirror_mode": {
        "version": 3,
        "name": "ipython"
      }
    }
  },
  "nbformat": 4,
  "nbformat_minor": 2
}