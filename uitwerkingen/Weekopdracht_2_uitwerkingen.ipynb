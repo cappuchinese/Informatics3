{
  "cells": [
    {
      "metadata": {
        "collapsed": true
      },
      "cell_type": "markdown",
      "source": "# Week 2 \n\nIn deze week kijken we naar de principes van over erven en overschrijven van code. Ook denken we na over efficiente code"
    },
    {
      "metadata": {},
      "cell_type": "markdown",
      "source": "## opdracht 1\n\n1. Creer een basis class Animal. De Animal heeft de volgende eigenschappen: type voedsel wat het eet, heeft honger ja of nee en de locatie van zijn verblijf. De Animal kan lawaai maken, eten, slapen en 'roamen'. De Animal honger status is default ja. \n2. Maak ook een class diagram voor deze classe. \n3. Maak een test case voor deze classe\n"
    },
    {
      "metadata": {
        "trusted": false
      },
      "cell_type": "code",
      "source": "class Animal:\n    def __init__(self, food, location, hunger=True):\n        self.food = food\n        self.location = location\n        self.hunger = hunger\n    \n    def __str__(self):\n        return type(self).__name__+\": I'm HUNGRY!!!\"\n\n    def make_noise(self, sound):\n        print(type(self).__name__+\": I make a a lot of noise: \"+sound)\n\n    def eat(self):\n        print(type(self).__name__+\": jamhamm\")\n\n    def sleep(self):\n        print(type(self).__name__+\": Zzzzz\")\n        \n    def roam(self):\n        pass\n\n    \n",
      "execution_count": null,
      "outputs": []
    },
    {
      "metadata": {
        "trusted": false
      },
      "cell_type": "code",
      "source": "# testcase\nmy_animal = Animal(\"Carrots\", \"shed\")\nprint(my_animal)\nmy_animal.eat()\nmy_animal.make_noise(\"grrr\")\nmy_animal.sleep()\nmy_animal.roam()",
      "execution_count": null,
      "outputs": []
    },
    {
      "metadata": {},
      "cell_type": "markdown",
      "source": "# classe diagram\n<img src=\"animal.png\" alt=\"animal\" width=\"130\" height=\"150\" align = \"left\">"
    },
    {
      "metadata": {},
      "cell_type": "markdown",
      "source": "## Opdracht 2\n\n1. Creer een class Hippo van het type Animal. De Hippo kan geluid maken en eten. Schrijf hiervoor de code.\n2. maak een test case voor deze Hippo classe\n"
    },
    {
      "metadata": {
        "trusted": false
      },
      "cell_type": "code",
      "source": "class Hippo (Animal):\n    def make_noise(self, sound):\n        print(type(self).__name__+\": Don't come to close! \"+ sound)\n\n    def eat(self):\n        print(type(self).__name__+\": jamjam, this is tasty {}\".format(self.food))\n",
      "execution_count": null,
      "outputs": []
    },
    {
      "metadata": {
        "trusted": false
      },
      "cell_type": "code",
      "source": "#testcase\nhippopotamus = Hippo(\"grass\", \"sub-sahara\")\nprint(hippopotamus)\nhippopotamus.make_noise(\"mwoehee\")\nhippopotamus.eat()",
      "execution_count": null,
      "outputs": []
    },
    {
      "metadata": {},
      "cell_type": "markdown",
      "source": "## Opdracht 3\n\n1. Creer classes van het type Animal voor Cat, Lion en Tiger. Al deze dieren kunnen geluid maken, eten en roamen\n2. maak een test case voor de classes"
    },
    {
      "metadata": {
        "trusted": false
      },
      "cell_type": "code",
      "source": "\nclass Lion(Animal):\n    def make_noise(self, sound):\n        print(type(self).__name__+\": Watch it.. I'm very dangerous: \"+sound)\n\n    def eat(self):\n        print(type(self).__name__+\": It this all??\")\n\n    def roam(self):\n        print(type(self).__name__+\": Stop!, or I ...\")\n\n\nclass Tiger(Animal):\n    def make_noise(self, sound):\n        print(type(self).__name__+\":  Like like what I see \"+sound)\n\n    def eat(self):\n        print(type(self).__name__+\": ....burp\")\n\n    def roam(self):\n        print(type(self).__name__+\": Stop!, or I ...\")\n\n\nclass Cat(Animal):\n    def make_noise(self, sound):\n        print(type(self).__name__+\":  Please don't stop the crawling \"+sound)\n\n    def eat(self):\n        print(type(self).__name__+\":  Delightful\")\n\n    def roam(self):\n        print(type(self).__name__+\": Stop!, or I ...\")\n        \n",
      "execution_count": null,
      "outputs": []
    },
    {
      "metadata": {
        "trusted": false
      },
      "cell_type": "code",
      "source": "# testcase\nleo = Lion(\"deer\", \"Emmen\")\nleo.make_noise(\"grrrrooa\")\nleo.eat()\nleo.roam()\nprint(leo)\n\ntigo = Tiger(\"meat\", \"Emmen\")\ntigo.make_noise(\"miouw\")\ntigo.eat()\ntigo.roam()\nprint(tigo)\n\npoekie = Cat(\"chicken\", \"Groningen\")\npoekie.make_noise(\"prrrr\")\npoekie.eat()\npoekie.roam()\nprint(poekie)",
      "execution_count": null,
      "outputs": []
    },
    {
      "metadata": {},
      "cell_type": "markdown",
      "source": "## Opdracht 4\n\n1. Creer classes van het type Animal voor Wolf en Hond. Al deze dieren kunnen geluid maken, eten en roamen\n2. maak een test case voor de classes"
    },
    {
      "metadata": {
        "trusted": false
      },
      "cell_type": "code",
      "source": "class Wolf(Animal):\n    def make_noise(self, sound):\n        print(type(self).__name__+\":  Where are my friends?? \"+sound)\n\n    def eat(self):\n        print(type(self).__name__+\":  !!FOOOODD!!\")\n\n    def roam(self):\n        print(type(self).__name__+\": Nice, I'm your best friend!\")\n\n\nclass Dog(Animal):\n    def make_noise(self, sound):\n        print(type(self).__name__+\":  Go away! \"+sound)\n\n    def eat(self):\n        print(type(self).__name__+\":  slopper..smakk ssliipp\")\n\n    def roam(self):\n        print(type(self).__name__+\": Nice, I'm your best friend!\")\n        \n",
      "execution_count": null,
      "outputs": []
    },
    {
      "metadata": {
        "trusted": false
      },
      "cell_type": "code",
      "source": "#testcase\n\nwoolfie = Wolf(\"chicken\", \"Ede\")\nwoolfie.make_noise(\"prrrr\")\nwoolfie.eat()\nwoolfie.roam()\nprint(woolfie)\n\nmr_brown = Dog(\"rice\", \"Ede\")\nmr_brown.make_noise(\"prrrr\")\nmr_brown.eat()\nmr_brown.roam()\nprint(mr_brown)",
      "execution_count": null,
      "outputs": []
    },
    {
      "metadata": {},
      "cell_type": "markdown",
      "source": "## Opdracht 5\n\n1. Doe je dingen nu eigenlijk toch nog dubbel? Kun je nog iets abstraheren? \n2. Refactor je code \n3. Maak een classe diagram van je uiteindelijke oplossing\n\n"
    },
    {
      "metadata": {
        "trusted": false
      },
      "cell_type": "code",
      "source": "class Animal:\n    def __init__(self, food, location, hunger=True):\n        self.food = food\n        self.location = location\n        self.hunger = hunger\n\n    def make_noise(self, sound):\n        print(type(self).__name__+\": I make a a lot of noise: \"+sound)\n\n    def eat(self):\n        print(type(self).__name__+\": jamhamm\")\n\n    def sleep(self):\n        print(type(self).__name__+\": Zzzzz\")\n\n    def roam(self):\n        pass\n\n    def __str__(self):\n        return type(self).__name__+\": I'm HUNGRY!!!\"\n\n\nclass Hippo(Animal):\n    def make_noise(self, sound):\n        print(type(self).__name__+\": : Don't come to close!: \"+sound)\n\n        \nclass Feline(Animal):\n    def roam(self):\n        print(type(self).__name__+\": Stop!, or I ...\")\n\n\nclass Lion(Feline):\n    def make_noise(self, sound):\n        print(type(self).__name__+\":  Watch it.. I'm very dangerous: \"+sound)\n\n    def eat(self):\n        print(type(self).__name__+\":  It this all??\")\n\n\n\nclass Tiger(Feline):\n    def make_noise(self, sound):\n        print(type(self).__name__+\":  Like like what I see \"+sound)\n\n    def eat(self):\n        print(type(self).__name__+\": ....burp\")\n\n\nclass Cat(Feline):\n    def make_noise(self, sound):\n        print(type(self).__name__+\":  Please don't stop the crawling \"+sound)\n\n    def eat(self):\n        print(type(self).__name__+\": Delightful\")\n\n\nclass Canine(Animal):\n    def roam(self):\n        print(type(self).__name__+\": Nice, I'm your best friend!\")\n\n\nclass Wolf(Canine):\n    def make_noise(self, sound):\n        print(type(self).__name__+\":  Where are my friends?? \"+sound)\n\n    def eat(self):\n        print(type(self).__name__+\":  !!FOOOODD!!\")\n\n\nclass Dog(Canine):\n    def make_noise(self, sound):\n        print(type(self).__name__+\":  Go away! \"+sound)\n\n    def eat(self):\n        print(type(self).__name__+\":  slopper..smakk ssliipp\")\n\n        ",
      "execution_count": null,
      "outputs": []
    },
    {
      "metadata": {
        "trusted": false
      },
      "cell_type": "code",
      "source": "tigo = Tiger(\"meat\", \"Emmen\")\ntigo.make_noise(\"miouw\")\ntigo.eat()\ntigo.roam()\n\nwoolfie = Wolf(\"chicken\", \"Ede\")\nwoolfie.make_noise(\"prrrr\")\nwoolfie.eat()\nwoolfie.roam()\n\nmr_brown = Dog(\"rice\", \"Ede\")\nmr_brown.make_noise(\"prrrr\")\nmr_brown.eat()\nmr_brown.roam()",
      "execution_count": null,
      "outputs": []
    },
    {
      "metadata": {},
      "cell_type": "markdown",
      "source": "# Classe diagram\n\n<img src=\"animal_base.png\" alt=\"animal\" width=\"600\" height=\"600\" align = \"left\">"
    },
    {
      "metadata": {},
      "cell_type": "markdown",
      "source": "## Challenge: Verander 'Is a' in a 'Has a' structuur. \n\nDeze challenge is voor als je het leuk vind om je zelf uit te dagen\n\nBekijk de code uit de voorbeelscripts: solid_ISP_good.py\n\n<img src=\"../images/isp.png\" alt=\"animal\" width=\"600\" height=\"600\" align = \"left\">\n\n1. waar zie je de implementatie van `Has A` in plaats van `Is A`?. \n    Hoe het hier geimplementeerd is dat de twee eigenschappen workable en eatable als apparte classes worden neergezet. De robot overerft alleen van workable, de abstractworker van eatable en workable. Dat is iets anders als dat je gedrag als een classe meegeeft aan een eigenschap van een object zoals het fighter voorbeeld\n2. Wat valt je op aan de base classes? \n    De code maakt gebruik van Abstract class\n3. Waarom is deze code efficienter dan code die alleen maar overerft?\n    geen overbodige methodes bij de classe robot\n\n"
    },
    {
      "metadata": {
        "trusted": false
      },
      "cell_type": "code",
      "source": "#Refactor de Animal code op zo'n manier dat je gebruik maakt van behavior classes en abstract classes\nfrom abc import ABCMeta, abstractmethod\n\nclass Sleepable(metaclass = ABCMeta):\n\n    @abstractmethod\n    def sleep(self):\n        pass\n\nclass Eatable(metaclass = ABCMeta):\n\n    @abstractmethod\n    def eat(self):\n        pass\n\nclass Roamable(metaclass = ABCMeta):\n\n    @abstractmethod\n    def roam(self):\n        pass\n\nclass Soundable(metaclass = ABCMeta):\n\n    @abstractmethod\n    def make_noise(self):\n        pass\n\n    \nclass AbstractAnimal(Sleepable, Eatable, Roamable, Soundable):\n    pass\n\n\nclass Animal(AbstractAnimal):\n    def __init__(self, food, location, hunger=True):\n        self.food = food\n        self.location = location\n        self.hunger = hunger\n        \n    def eat(self):\n        print(type(self).__name__+\": jamhamm\")\n\n    def sleep(self):\n        print(type(self).__name__+\": Zzzzz\")\n    \n    def roam(self):\n        pass\n    \n    def __str__(self):\n        return type(self).__name__+\": I'm HUNGRY!!!\"\n\n    \n\nclass Hippo(Animal):\n    def make_noise(self, sound):\n        print(type(self).__name__+\": Don't come to close!: \"+sound)\n\n    def eat(self):\n        print(type(self).__name__+\": jamjam, this is tasty {}\".format(self.food))\n        \n\nclass Feline(Animal):\n    def roam(self):\n        print(type(self).__name__+\": Stop!, or I ...\")\n\n\nclass Lion(Feline):\n    def make_noise(self, sound):\n        print(type(self).__name__+\":  Watch it.. I'm very dangerous: \"+sound)\n\n    def eat(self):\n        print(type(self).__name__+\":  It this all??\")\n\n\n\nclass Tiger(Feline):\n    def make_noise(self, sound):\n        print(type(self).__name__+\":  Like like what I see \"+sound)\n\n    def eat(self):\n        print(type(self).__name__+\": ....burp\")\n\n\nclass Cat(Feline):\n    def make_noise(self, sound):\n        print(type(self).__name__+\":  Please don't stop the crawling \"+sound)\n\n    def eat(self):\n        print(type(self).__name__+\": Delightful\")\n\n\nclass Canine(Animal):\n    def roam(self):\n        print(type(self).__name__+\": Nice, I'm your best friend!\")\n\n\nclass Wolf(Canine):\n    def make_noise(self, sound):\n        print(type(self).__name__+\":  Where are my friends?? \"+sound)\n\n    def eat(self):\n        print(type(self).__name__+\":  !!FOOOODD!!\")\n\n\nclass Dog(Canine):\n    def make_noise(self, sound):\n        print(type(self).__name__+\":  Go away! \"+sound)\n\n    def eat(self):\n        print(type(self).__name__+\":  slopper..smakk ssliipp\")\n\n        ",
      "execution_count": 3,
      "outputs": []
    },
    {
      "metadata": {
        "trusted": false
      },
      "cell_type": "code",
      "source": "#testcase\nhip = Hippo(\"grass\", \"sahara\")\nhip.make_noise(\"mmmmwoooohhhh\")\nhip.eat()\nprint(hip)\n\n\ntigo = Tiger(\"meat\", \"Emmen\")\ntigo.make_noise(\"miouw\")\ntigo.eat()\ntigo.roam()\n\nwoolfie = Wolf(\"chicken\", \"Ede\")\nwoolfie.make_noise(\"prrrr\")\nwoolfie.eat()\nwoolfie.roam()\n\nmr_brown = Dog(\"rice\", \"Ede\")\nmr_brown.make_noise(\"prrrr\")\nmr_brown.eat()\nmr_brown.roam()",
      "execution_count": 4,
      "outputs": [
        {
          "name": "stdout",
          "output_type": "stream",
          "text": "Hippo: Don't come to close!: mmmmwoooohhhh\nHippo: jamjam, this is tasty grass\nHippo: I'm HUNGRY!!!\nTiger:  Like like what I see miouw\nTiger: ....burp\nTiger: Stop!, or I ...\nWolf:  Where are my friends?? prrrr\nWolf:  !!FOOOODD!!\nWolf: Nice, I'm your best friend!\nDog:  Go away! prrrr\nDog:  slopper..smakk ssliipp\nDog: Nice, I'm your best friend!\n"
        }
      ]
    },
    {
      "metadata": {},
      "cell_type": "markdown",
      "source": "Lever de code van de Animal classes in een script in op blackboard. Lever ook je classe diagram in. Check je code voordat je hem upload met \n1. black\n2. pylint\n\nTip: met pyreverse kun je ook een classe diagram maken"
    }
  ],
  "metadata": {
    "kernelspec": {
      "name": "python3",
      "display_name": "Python 3",
      "language": "python"
    },
    "language_info": {
      "mimetype": "text/x-python",
      "nbconvert_exporter": "python",
      "name": "python",
      "pygments_lexer": "ipython3",
      "version": "3.5.4",
      "file_extension": ".py",
      "codemirror_mode": {
        "version": 3,
        "name": "ipython"
      }
    }
  },
  "nbformat": 4,
  "nbformat_minor": 2
}