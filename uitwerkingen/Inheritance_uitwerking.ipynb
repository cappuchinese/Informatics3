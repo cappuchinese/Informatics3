{
  "cells": [
    {
      "metadata": {},
      "cell_type": "markdown",
      "source": "# Inheritance (overerving)\n\nOvererving is wanneer een `class` code gebruikt die in een andere class is geconstrueerd. Als we denken aan overerving in termen van biologie, kunnen we denken aan een kind dat bepaalde eigenschappen van zijn ouder erft. We zeggen dan \nbijvoorbeeld `class Fenna(Ada):` Dat wil zeggen dat een kind Fenna een kind is van ouder Ada en de de lengte of oogkleur van die ouder erft. Dat kan ook abstracter. Een kind `Fenna` kan ook overerven van een `base class` `persoon` die als eigenschap heeft dat een persoon kan eten en lopen en slapen. `Fenna` kan dan ook automatisch eten, lopen en slapen.\n\nClasses die `subclasse` worden genoemd, nemen methoden en variabelen over van bovenliggende classe of base classe.\n\n\nOmdat de subclass (Child) alles overneemt van de base class (Parent), kan de Child class de code van de Parent class hergebruiken. Dat betekent minder herhaling van code, en daarom ook minder kans op fouten. De code is beter onderhoudbaar.\n\n### extend\n\nIn een subclass kunnen we methodes en eigenschappen toevoegen\n\n### override\n\nIn een subclass kunnen we een methode overschrijven van de base class met een eigen implementatie specifiek voor die subclass. \n\n### super()\n\nMet de functie `super()` krijgt je toegang tot de bovenliggende class methoden die in een usbclass zijn overschreven.\nWanneer we de functie super() gebruiken, roepen we een bovenliggende methode op in een onderliggende methode om er gebruik van te maken. \n\n### multiple inheritance\n\nEen class kan ook van twee classes overerven. Het kan dan van beide classes methodes en eigenschappen gebruiken"
    },
    {
      "metadata": {},
      "cell_type": "markdown",
      "source": "## Opdracht 1\n\nBekijk de onderstaande code en beantwoord de volgende vragen\n\n1. Welke base classes zie je? \n    *Coral, Anemone en Fish*\n2. Hoeveel subclasses zijn er die van een baseclasse overerven? *Trout, ClownFish en Shark erven over van Fish, Coralreef van Coral en Anemone*\n3. Waarom hebben sommige classes geen constructor? *als een class geen constructor heeft gebruikt hij die van de superclass*\n4. Hoeveel super() methodes kun je ontdekken en waar? *Trout heeft een super methode*\n5. Welke subclasses overschrijven iets van de baseclasse? En wat dan *Shark overschrijft de swimbackwards methode en de constructor default waardes*\n6. Welke subclasses voegen iets toe aan de overgeerfde base class? *Clownfish:live_with_anemone, Trout voegt water attribute toe aan constructor* \n7. Hoeveel eigenschappen heeft trout? En hoeveel methodes? *4 eigenschappen van Fish + 1 van Trout = 5, 2 methodes van Fish)\n\n## Opdracht 2\nMaak een class diagram van de classes van het script. Dit kun je op de computer doen met een tekenprogramma maar dit kun je ook doen op papier. Als je niet weet hoe te beginnen begin dan met per klasse een blok te tekenen met daarin de attributen en de methods en probeer daarna deze te verbinden met lijntjes. Zoek op internet naar de uitleg van class diagrams. Een aardige referentie is van de <a href = \"https://www.cs.drexel.edu/~spiros/teaching/CS575/slides/uml.pdf\">drexel university</a>\n\n<img src=\"../images/classe_diagram_fish.png\" alt=\"fish\" width=\"400\" height=\"400\" align = \"centre\">"
    },
    {
      "metadata": {
        "trusted": false
      },
      "cell_type": "code",
      "source": "class Fish:\n    def __init__(self, first_name, last_name=\"Fish\",\n                 skeleton=\"bone\", eyelids=False):\n        self.first_name = first_name\n        self.last_name = last_name\n        self.skeleton = skeleton\n        self.eyelids = eyelids\n\n    def swim(self):\n        print(\"The fish is swimming.\")\n\n    def swim_backwards(self):\n        print(\"The fish can swim backwards.\")\n\n\n\nclass Clownfish(Fish):\n\n    def live_with_anemone(self):\n        print(\"The clownfish is coexisting with sea anemone.\")\n\n\n\nclass Shark(Fish):\n    def __init__(self, first_name, last_name=\"Shark\",\n                 skeleton=\"cartilage\", eyelids=True):\n        self.first_name = first_name\n        self.last_name = last_name\n        self.skeleton = skeleton\n        self.eyelids = eyelids\n\n    def swim_backwards(self):\n        print(\"The shark cannot swim backwards, but can sink backwards.\")\n\n\nclass Trout(Fish):\n    def __init__(self, water = \"freshwater\"):\n        self.water = water\n        super().__init__(self)\n\n\nclass Coral:\n\n    def community(self):\n        print(\"Coral lives in a community.\")\n\n\nclass Anemone:\n\n    def protect_clownfish(self):\n        print(\"The anemone is protecting the clownfish.\")\n\n\nclass CoralReef(Coral, Anemone):\n    pass\n",
      "execution_count": 1,
      "outputs": []
    },
    {
      "metadata": {},
      "cell_type": "markdown",
      "source": "## Opdracht 2\n\nMaak een object aan aan en gebruik de eigenschappen en methodes van het objectzodat de volgende output wordt gegenereerd. Maak gebruik van bovenstaande classes\n\n    Coral lives in a community.\n    The anemone is protecting the clownfish."
    },
    {
      "metadata": {
        "trusted": false
      },
      "cell_type": "code",
      "source": "#oplossing\ngreat_barrier = CoralReef()\ngreat_barrier.community()\ngreat_barrier.protect_clownfish()",
      "execution_count": 2,
      "outputs": [
        {
          "name": "stdout",
          "output_type": "stream",
          "text": "Coral lives in a community.\nThe anemone is protecting the clownfish.\n"
        }
      ]
    },
    {
      "metadata": {},
      "cell_type": "markdown",
      "source": "## Opdracht 4\n\nMaak een object aan en gebruik de eigenschappen en methodes van het object zodat de volgende output wordt gegenereerd: De eerste regel is de voor en achternaam. Maak gebruik van bovenstaande classes\n\n    Gumpy Fish\n    False\n    freshwater\n    The fish is swimming"
    },
    {
      "metadata": {
        "trusted": false
      },
      "cell_type": "code",
      "source": "#oplossing\n\ngump = Trout()\n\n# Initialize first name\ngump.first_name = \"Gumpy\"\n\n# Use parent __init__() through super()\nprint('{} {}'.format(gump.first_name,gump.last_name))\nprint(gump.eyelids)\n\n# Use child __init__() override\nprint(gump.water)\n\n# Use parent swim() method\ngump.swim()",
      "execution_count": 5,
      "outputs": [
        {
          "name": "stdout",
          "output_type": "stream",
          "text": "Gumpy Fish\nFalse\nfreshwater\nThe fish is swimming.\n"
        }
      ]
    },
    {
      "metadata": {},
      "cell_type": "markdown",
      "source": "## Opdracht 5\n\nMaak een object aan zodat de volgende output wordt gegenereerd: De eerste regel is de voor en achternaam. Maak gebruik van bovenstaande classes\n\n    Shark Sjaak\n    The fish is swimming.\n    The shark cannot swim backwards, but can sink backwards.\n"
    },
    {
      "metadata": {
        "trusted": false
      },
      "cell_type": "code",
      "source": "#oplossing\nshark = Shark(\"Sjaak\")\nprint(shark.last_name + \" \" + shark.first_name)\nshark.swim()\nshark.swim_backwards()",
      "execution_count": 12,
      "outputs": [
        {
          "name": "stdout",
          "output_type": "stream",
          "text": "Shark Sjaak\nSjaak is swimming.\nSjaak cannot swim backwards, but can sink backwards.\n"
        }
      ]
    },
    {
      "metadata": {},
      "cell_type": "markdown",
      "source": "## Opdracht 6\n\nKun je de code ook aanpassen dat de volgende code wordt geprint?\n\n    Shark Sjaak\n    Sjaak is swimming.\n    Sjaak cannot swim backwards, but can sink backwards."
    },
    {
      "metadata": {
        "trusted": false
      },
      "cell_type": "code",
      "source": "#oplossing\nclass Shark(Fish):\n    def __init__(self, first_name, last_name=\"Shark\",\n                 skeleton=\"cartilage\", eyelids=True):\n        self.first_name = first_name\n        self.last_name = last_name\n        self.skeleton = skeleton\n        self.eyelids = eyelids\n        \n    def __str__(self):\n        return \"{} {}\".format(self.__class__.__name__, self.first_name )\n    \n    def swim(self):\n        print(\"{} is swimming.\".format(self.first_name))\n        \n    def swim_backwards(self):\n        print(\"{} cannot swim backwards, but can sink backwards.\".format(self.first_name))\n\nshark = Shark(\"Sjaak\")\nprint(shark)\nshark.swim()\nshark.swim_backwards()",
      "execution_count": 14,
      "outputs": [
        {
          "name": "stdout",
          "output_type": "stream",
          "text": "Shark Sjaak\nSjaak is swimming.\nSjaak cannot swim backwards, but can sink backwards.\n"
        }
      ]
    },
    {
      "metadata": {},
      "cell_type": "markdown",
      "source": "Bron: Lisa Tagliaferri"
    }
  ],
  "metadata": {
    "kernelspec": {
      "name": "python3",
      "display_name": "Python 3",
      "language": "python"
    },
    "language_info": {
      "mimetype": "text/x-python",
      "nbconvert_exporter": "python",
      "name": "python",
      "file_extension": ".py",
      "version": "3.5.4",
      "pygments_lexer": "ipython3",
      "codemirror_mode": {
        "version": 3,
        "name": "ipython"
      }
    }
  },
  "nbformat": 4,
  "nbformat_minor": 4
}