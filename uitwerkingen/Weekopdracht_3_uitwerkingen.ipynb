{
  "cells": [
    {
      "metadata": {
        "trusted": true
      },
      "cell_type": "code",
      "source": "\"\"\"class in aminoacidsequence.py\"\"\"\n\nclass AminoAcidSequence:\n    # Define a proper constructor, building a Object with a protein name and amino-acid sequence.\n\n    def __init__(self, name, seq):\n        self.name = name\n        self.seq = seq.upper()\n        self.index = 0\n\n    # A developer readable object description\n    def __repr__(self):\n        return \"Your object is of type: {} has two attributes: .name and .seq\".format(type(self).__name__)\n\n    # An user (human readable) object description\n    def __str__(self):\n        return \"My name is: {} and sequence is: {}\".format(self.name, self.seq)\n\n    # Implementation of that returns the length of the amino-acid sequence\n    def __len__(self):\n        return len(self.seq)\n\n    # Make your aminoacid object iterable\n    def __iter__(self):\n        return self.seq\n\n    # Implement all the required hooks for doin so\n    def __next__(self):\n        if self.index == len(self.seq):\n            # Make sure that we can keep iterating over the sequence (reset index).\n            self.index = 0\n            raise StopIteration\n        else:\n            self.index += 1\n            return self.seq[self.index-1]\n\n    def __add__(self, other):\n        # Make sure you can add other exons to your amino-acid sequence\n        return self.seq + other.seq\n\n    # When you execute your object as a function it returns the composition of the sequence\n    def __call__(self):\n        return self.seq\n\n    # A check if it only contains valid amino-acids\n    def check_valid_aa(self):\n        valid = \"ARNDCQEGHILKMFPSTWYV\"\n        self.seq = \"\".join(list(filter(lambda x: x in valid, self.seq)))\n",
      "execution_count": null,
      "outputs": []
    },
    {
      "metadata": {
        "trusted": true
      },
      "cell_type": "code",
      "source": "\"\"\"\n   unit test program for person class in aminoacidsequence.py\n   usage: python3 -m unittest test_aminoacidsequence.py\n\n\"\"\"\n\nimport unittest\nfrom aminoacidsequence import AminoAcidSequence\n\nclass TestAminoAcidSequence(unittest.TestCase):\n\n    def test_check_valid_aa(self):\n        aa = AminoAcidSequence(\"test\", \"ARNDC\")\n        self.assertTrue(aa)\n        \n    def test_call(self):\n        aa = AminoAcidSequence(\"test\", \"ARNDC\")\n        self.assertEqual(aa(), \"ARNDC\")\n        \n    def test_len(self):\n        s = \"ARNDC\"\n        aa = AminoAcidSequence(\"test\", s)\n        self.assertEqual(len(aa), len(s))\n        \n    def test_add(self):\n        s = \"ARNDC\"\n        aa = AminoAcidSequence(\"test\", s)\n        ab = AminoAcidSequence(\"test\", s)\n        self.assertEqual(aa + ab, \"ARNDCARNDC\")\n\n#to run directly from editor\nif __name__ == '__main__':\n    #will run all of the tests\n    unittest.main()\n",
      "execution_count": null,
      "outputs": []
    }
  ],
  "metadata": {
    "kernelspec": {
      "name": "python36",
      "display_name": "Python 3.6",
      "language": "python"
    },
    "language_info": {
      "mimetype": "text/x-python",
      "nbconvert_exporter": "python",
      "name": "python",
      "pygments_lexer": "ipython3",
      "version": "3.6.6",
      "file_extension": ".py",
      "codemirror_mode": {
        "version": 3,
        "name": "ipython"
      }
    }
  },
  "nbformat": 4,
  "nbformat_minor": 1
}