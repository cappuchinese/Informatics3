{
  "cells": [
    {
      "metadata": {
        "trusted": true
      },
      "cell_type": "code",
      "source": "\"\"\"\nschrijf code die de een file probeert weg te schrijven, \nals dat mislukt de message print \"Failed\", \nals dat lukt de message print \"succeeded\" en altijd de file closed\n\"\"\"\ndef write_to_file(f):\n    f.write(\"test\")\n    \nf = open('data/data.txt', 'r') #set this to 'w' to check succeeded\ntry:\n    write_to_file(f)\nexcept:\n    print('Failed')\nelse:\n    print('Succeeded')\nfinally:\n    f.close()\n    print('File closed')",
      "execution_count": 3,
      "outputs": [
        {
          "output_type": "stream",
          "text": "Failed\nFile closed\n",
          "name": "stdout"
        }
      ]
    },
    {
      "metadata": {
        "trusted": true
      },
      "cell_type": "code",
      "source": "\"\"\"\nMaak je eigen exception `class UppercaseException(Exception)`. \nRaise deze exception als een string geen uppercase is (met een `if word.isupper()` test case. \nVang deze ook goed af met een try en except\n\"\"\"\nclass UppercaseException(Exception):\n    def __init__(self, string):\n        self.string = string\n    def __str__(self):\n        return \"Uppercase characters found in {}\".format(self.string)     \n\n        \ndef check_words(words):\n    for word in words:\n        if word.isupper():\n            raise UppercaseException(word)\n\ntry:\n    check_words([\"iene\", \"miene\", \"MUTTE\"])\nexcept UppercaseException as ex:\n    print(ex)\n        \n",
      "execution_count": 17,
      "outputs": [
        {
          "output_type": "stream",
          "text": "Uppercase characters found in MUTTE\n",
          "name": "stdout"
        }
      ]
    }
  ],
  "metadata": {
    "kernelspec": {
      "name": "python36",
      "display_name": "Python 3.6",
      "language": "python"
    },
    "language_info": {
      "mimetype": "text/x-python",
      "nbconvert_exporter": "python",
      "name": "python",
      "pygments_lexer": "ipython3",
      "version": "3.6.6",
      "file_extension": ".py",
      "codemirror_mode": {
        "version": 3,
        "name": "ipython"
      }
    }
  },
  "nbformat": 4,
  "nbformat_minor": 2
}