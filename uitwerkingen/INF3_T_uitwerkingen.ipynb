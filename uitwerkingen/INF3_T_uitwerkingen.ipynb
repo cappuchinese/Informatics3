{
  "cells": [
    {
      "metadata": {
        "collapsed": true
      },
      "cell_type": "markdown",
      "source": "![](hanze.png)\n\n# Tentamen Informatica 3"
    },
    {
      "metadata": {},
      "cell_type": "markdown",
      "source": "- **Date/Time** 08 mei 08:30 - 10:30\n- **Teachers** FEFE\n- **Scanned by** BOPJ\n- **Test size** 5 assignments\n- **Files needed** `SAMPLE_DATA.txt`\n- **TO BE SUBMITTED**\n    - This notebook \n\n## Instructies\n\nHet tentamen bevat een aantal opdrachten. Iedere opdracht heeft 1 of meerdere code cellen in deze notebook. Telkens wanneer je `# YOUR CODE HERE` tegenkomt, wordt er input van jou verwacht. Ook zie je een `raise NotImplementedError()` staan. Deze moet je <b>vervangen</b> voor jouw test script om de code aan te roepen\n\n<b>Belangrijk:</b>\nIn veel van de vragen is de code verpakt in een functie.  \nDe functie is echter nog niet aangeroepen.  \nDit moet je zelf nog doen!\n\n### Te gebruiken bronnen\nWe kijken mee op je scherm. Je mag https://docs.python.org/3/library/pydoc.html en de cheatsheets gebruiken maar geen andere bronnen. Je mag scripts in een IDE omgeving runnen zoals pycharm of direct in dit notebook. Je mag de commandline editor gebruiken om te testen. \n\n### Indienen\nDe uitwerkingen van alle vragen zet je in **dit notebook**. Je levert het in door het te uploaden via blackboard. \n\n### Cijfer\nHet cijfer wordt als volgt berekend:  \nbehaald aantal punten/totaal aantal punten * 9 + 1\n\n\n\n"
    },
    {
      "metadata": {},
      "cell_type": "markdown",
      "source": "---"
    },
    {
      "metadata": {},
      "cell_type": "markdown",
      "source": "## Vraag 1 [10 pt]\n\n\nGegeven een lijst met getallen, maak een nieuwe lijst die alleen de getallen bevat die **deelbaar zijn door 3** en waarbij het oorspronkelijke getal **kleiner dan 30** is. Maak hierbij gebruik van `filter` en `lambda`. Laat dit zien aan de hand van deze lijst: \n    \n    [0,1,1,2,3,6,8,12,21,28,34,55] \n "
    },
    {
      "metadata": {
        "trusted": false
      },
      "cell_type": "code",
      "source": "def vraag1(my_list):\n    y = filter(lambda x: (x<30) & (x%3==0), my_list)\n    return list(y)\n    \nvraag1([0,1,1,2,3,6,8,12,21,28,34,55])",
      "execution_count": 9,
      "outputs": [
        {
          "data": {
            "text/plain": "[0, 3, 6, 12, 21]"
          },
          "execution_count": 9,
          "metadata": {},
          "output_type": "execute_result"
        }
      ]
    },
    {
      "metadata": {},
      "cell_type": "markdown",
      "source": "## Vraag 2 [5 pt]\n\nGegeven de volgende twee lijsten:\n\n    l1 = [1, 2, 3] \n    l2 = [4, 5, 6] \n    \nMaak een nieuwe lijst met behulp van `map()` en `lambda` waarbij de beide getallen bij elkaar opgeteld worden. Dus het resultaat is [5, 7, 9]\n"
    },
    {
      "metadata": {
        "trusted": false
      },
      "cell_type": "code",
      "source": "def vraag2():\n    l1 = [1, 2, 3] \n    l2 = [4, 5, 6] \n    print(list(map(lambda x, y: x + y, l1, l2)))\n    \nvraag2()",
      "execution_count": 10,
      "outputs": [
        {
          "name": "stdout",
          "output_type": "stream",
          "text": "[5, 7, 9]\n"
        }
      ]
    },
    {
      "metadata": {},
      "cell_type": "markdown",
      "source": "## Vraag 3 [5 pt]\n\nSchrijf een reguliere expressie om alle eukaryotische messenger-RNA-sequenties van volledige lengte te identificeren in een string. Een eukaryotische messenger-RNA-sequentie heeft de volgende structuur\n\n* een AUG start codon van het begin van de sequentie\n* gevolgd door 30 to 1000 bases \n* gevolgd door een poly-A tail tussen 5 and 10 bases op het eind van de sequentie \n"
    },
    {
      "metadata": {
        "trusted": false
      },
      "cell_type": "code",
      "source": "import re\ndef vraag3(seq):\n    pat = r\"AUG[AUGC]{30,1000}A{5,10}\"\n    matches = re.findall(pat, seq) \n    return matches\nseq = 'AUGGCCAUGGCGCCCAGAACUGAGAUCAAUAGUACCCGUAUUAACGGGUGAAAAAAAAUGAGAUCAAUAGUACCCGUAUUAACG'\nprint(vraag3(seq))",
      "execution_count": 4,
      "outputs": [
        {
          "name": "stdout",
          "output_type": "stream",
          "text": "['AUGGCCAUGGCGCCCAGAACUGAGAUCAAUAGUACCCGUAUUAACGGGUGAAAAAAAA']\n"
        }
      ]
    },
    {
      "metadata": {},
      "cell_type": "markdown",
      "source": "## Vraag 4 [30 pt]\n\nMaak je eigen exception class mRNAException. Raise deze exception als een string geen eukaryotische messenger-RNA is in de functie `check_mrna`. Zorg ervoor dat de string altijd wordt uitgeprint via een `try` afhandeling. "
    },
    {
      "metadata": {
        "trusted": false
      },
      "cell_type": "code",
      "source": "class mRNAException(RuntimeError):\n    def __init__(self, msg):\n        super().__init__()\n        self.message = msg\n        \ndef check_mrna(s):\n    m = vraag3(s)\n    if len(m) == 0:\n        raise mRNAException(\"invalid mRNA: only mRNA allowed\")\n\ndef process(s):\n    try:\n        check_mrna(s)\n    except mRNAException as ex:\n        print(ex.message)\n    else:\n        print(\"valid mRNA\")\n    finally:\n        print(\"string {} \\n\".format(s))\n    \ns1 = \"AUGUUUUUUUGGGGGGGAAAAAUAGGGGAAUUUUUUGGGGGGGAAAAAUAGGGGAAAAAAAA\"\ns2 = \"RTFM\"\nprocess(s1)\nprocess(s2)\n",
      "execution_count": 15,
      "outputs": [
        {
          "name": "stdout",
          "output_type": "stream",
          "text": "valid mRNA\nstring AUGUUUUUUUGGGGGGGAAAAAUAGGGGAAUUUUUUGGGGGGGAAAAAUAGGGGAAAAAAAA \n\ninvalid mRNA: only mRNA allowed\nstring RTFM \n\n"
        }
      ]
    },
    {
      "metadata": {},
      "cell_type": "markdown",
      "source": "## Vraag 5 [40 pt]\n\n\nHet bestand `SAMPLE_DATA.txt` bevat de resultaten van temperatuur metingen van enkele patiënten. Sommige van hen hebben koorts en anderen niet. Op elke regel staat informatie over een patiënt. Eerst is er de (anonieme) patiëntnaam, daarna de temperatuur gegevens. \n\nHet is de bedoeling dat je, nadat je de data goed hebt bestudeerd, een object-georienteerde implementatie maakt\nmet de volgende basisspecificaties. Zie ook classe diagram. Let op: In het klasse diagram zijn de te maken builtin methodes niet weergegeven!\n\n<img src=\"classes.png\" alt=\"classe\" width=\"400\" height=\"400\" align = \"centre\">\n\na. Maak een klasse `Patient` aan met een goede implementatie van `__init__()` met de relevante eigenschappen uit de `SAMPLE_DATA.txt`. Maak een implementatie van  `__str__()` aan die de naam en temperatuur weergeeft als het object geprint wordt. Maak in de klasse ook een **property methode** `needs_a_doctor()` aan die een True is als de temperatuur hoger is dan 39.0 celcius.  <b>(6 punten)</b>\n\nb. Maak een klasse `Physician` aan volgens het klasse diagram. Zorg ervoor dat er feedback wordt gegeven als de dokter  geneest. Bijvoorbeeld met een bericht *'patient .... has been healed by ....'* Maak ook een `__str__` methode zodat de dokter zich voorstelt en de patient geruststeld. Bijvoorbeeld *'I am ... and I take care of you!'*. Maak als de klasse af is een Physician object. <b>(6 punten)</b>\n\nc. Maak een klasse Patientlist die een lijst van patientobjecten ontvangt. Implementeer ondersteuning voor zowel `len()` als `iter()` en `next()` op een logische manier. <b>(10 punten)</b>\n\nd. Maak een functie `read_data()` die de file SAMPLE_DATA uitleest, voor elke patientregel een Patient object maakt  en de relevante eigenschappen gebruikt voor de initialisatie van het object. De functie moet een lijst met patient objecten returnen. <b>(6 punten)</b>\n\ne. Maak een object `Patientlist` aan met de patienten objecten lijst uit de functie `read_data()` <b>(2 punten)</b>\n\nf. Loop nu door de patientenlijst met de `next` methode. Als de patient een doctor nodig heeft moet de Physician de patient beter maken met de methode `heal(patient)`. Laat zien dat je script werkt. <b>(10 punten)</b>\n\n\nHet resultaat zou er zo uit moeten zien:\n"
    },
    {
      "metadata": {
        "trusted": false
      },
      "cell_type": "code",
      "source": "class Patient:\n    \n    def __init__(self, name, temp):\n        self.name = name\n        self.temp = float(temp)\n    \n    def __str__(self):\n        return \"\\nHi, I am {} and my temperature is {}\".format(self.name, self.temp)\n    \n    @property\n    def needs_a_doctor(self):\n        if self.temp > 39:\n            return True\n        else:\n            return False\n        \n         \nclass Physician:\n    def __init__(self, name):\n        self.name = name\n        \n    def __str__(self):\n        return (\"I am {} and I take care of you!\".format(self.name))\n\n    def heal(self, patient):\n        patient.temp = 37\n        print(patient.name + \" has been healed by \" + self.name + \"!\")\n        \n        \nclass Patientlist:\n    def __init__(self, items=list()):\n        self.patients = items\n        self.index = 0\n\n    def __len__(self):\n        return len(self.patients)\n    \n    def __iter__(self):\n        for item in self.patients:\n            yield item\n            \n    def __next__(self):\n        if self.index == len(self.patients):\n            self.index = 0\n            print(\"finished all the patients\")\n        else:\n            self.index += 1\n            return self.patients[self.index-1]\n        \ndef read_data():\n    with open('SAMPLE_DATA.txt') as f:\n        f.readline()\n        pl = []\n        for line in f:\n            sl = line.split(\" \")\n            p = Patient(sl[0], sl[1])\n            pl.append(p)\n    return pl\n\npatl = read_data()            \npl = Patientlist(patl)\ndoc = Physician(\"Dr. Frankenstein\")        \n\nfor i in range(0, len(pl)):\n    patient = next(pl)\n    print(patient)\n    if patient.needs_a_doctor:\n        print(doc)\n        doc.heal(patient)\n",
      "execution_count": 7,
      "outputs": [
        {
          "name": "stdout",
          "output_type": "stream",
          "text": "\nHi, I am patient_X and my temperature is 36.7\n\nHi, I am patiente_Y and my temperature is 39.2\nI am Dr. Frankenstein and I take care of you!\npatiente_Y has been healed by Dr. Frankenstein!\n\nHi, I am patient_Z and my temperature is 40.0\nI am Dr. Frankenstein and I take care of you!\npatient_Z has been healed by Dr. Frankenstein!\n\nHi, I am patiente_Q and my temperature is 38.9\n\nHi, I am patiente_R and my temperature is 39.2\nI am Dr. Frankenstein and I take care of you!\npatiente_R has been healed by Dr. Frankenstein!\n\nHi, I am patient_S and my temperature is 39.4\nI am Dr. Frankenstein and I take care of you!\npatient_S has been healed by Dr. Frankenstein!\n"
        }
      ]
    }
  ],
  "metadata": {
    "kernelspec": {
      "name": "python3",
      "display_name": "Python 3",
      "language": "python"
    },
    "language_info": {
      "mimetype": "text/x-python",
      "nbconvert_exporter": "python",
      "name": "python",
      "pygments_lexer": "ipython3",
      "version": "3.5.4",
      "file_extension": ".py",
      "codemirror_mode": {
        "version": 3,
        "name": "ipython"
      }
    }
  },
  "nbformat": 4,
  "nbformat_minor": 2
}