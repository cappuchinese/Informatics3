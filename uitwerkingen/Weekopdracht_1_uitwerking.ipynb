{
  "cells": [
    {
      "metadata": {},
      "cell_type": "markdown",
      "source": "# Week 1 opdracht Uitwerkingen\n\nMiddels deelopdrachten maak je twee classes: de classe Protein en de classe RestrictionEnzyme. Lever de beide classes in via blackboard"
    },
    {
      "metadata": {},
      "cell_type": "markdown",
      "source": "### Assignment 1: Create a class that models/represents proteins:\nInstantiate the class and give it the attributes name and amino acid sequence. Then print the attributes to screen."
    },
    {
      "metadata": {
        "trusted": true
      },
      "cell_type": "code",
      "source": "class Protein():\n    #do not modify this\n    pass\n\nprot = Protein()\nprot.name = 'Glucose-6-phospatase'\nprot.sequence = 'MEEGMNVLHDFGIQSTHYLQVNYQAVVPLASVSVIPYCLAQVLGQPHKKSL'\nprint('Protein: name {}, sequence: {}'.format(prot.name, prot.sequence))\n",
      "execution_count": 2,
      "outputs": [
        {
          "output_type": "stream",
          "text": "Protein: name Glucose-6-phospatase, sequence: MEEGMNVLHDFGIQSTHYLQVNYQAVVPLASVSVIPYCLAQVLGQPHKKSL\n",
          "name": "stdout"
        }
      ]
    },
    {
      "metadata": {},
      "cell_type": "markdown",
      "source": "### Assignment 2: Create a class that models/represents proteins:\nNow make the attributes name and amino acid sequence mandatory by specifying them in a **constructor**. Again, instantiate a Protein object and print the attributes to screen.\n"
    },
    {
      "metadata": {
        "trusted": true
      },
      "cell_type": "code",
      "source": "class Protein():\n    # the constructor\n    def __init__(self, sequence, name):\n        self.sequence= sequence\n        self.name = name\n\nprot = Protein(\"MEEGMNVLHDFGIQSTHYLQVNYQAVVPLASVSVIPYCLAQVLGQPHKKSL\",\"Glucose-6-phospatase\")\nprint('Protein: name {}, sequence: {}'.format(prot.name, prot.sequence))",
      "execution_count": 8,
      "outputs": [
        {
          "output_type": "stream",
          "text": "Protein: name Glucose-6-phospatase, sequence: MEEGMNVLHDFGIQSTHYLQVNYQAVVPLASVSVIPYCLAQVLGQPHKKSL\n",
          "name": "stdout"
        }
      ]
    },
    {
      "metadata": {},
      "cell_type": "markdown",
      "source": "### Assignment 3: Create a class that models/represents proteins:\nNext, change the constructor to make the name attribute optional - give it the default value “UNNAMED PROTEIN”. Demonstrate construction of a Protein object both with and without name."
    },
    {
      "metadata": {
        "trusted": true
      },
      "cell_type": "code",
      "source": "class Protein():\n    def __init__(self, sequence, name='UNNAMED PROTEIN'):\n        self.sequence= sequence\n        self.name = name\n        \nprot = Protein(\"MEEGMNVLHDFGIQSTHYLQVNYQAVVPLASVSVIPYCLAQVLGQPHKKSL\",\"Glucose-6-phospatase\")\nprint('Protein: name {}, sequence: {}'.format(prot.name, prot.sequence))\nprot = Protein(\"MEEGMNVLHDFGIQSTHYLQVNYQAVVPLASVSVIPYCLAQVLGQPHKKSL\")\nprint('Protein: name {}, sequence: {}'.format(prot.name, prot.sequence))",
      "execution_count": 9,
      "outputs": [
        {
          "output_type": "stream",
          "text": "Protein: name Glucose-6-phospatase, sequence: MEEGMNVLHDFGIQSTHYLQVNYQAVVPLASVSVIPYCLAQVLGQPHKKSL\nProtein: name UNNAMED PROTEIN, sequence: MEEGMNVLHDFGIQSTHYLQVNYQAVVPLASVSVIPYCLAQVLGQPHKKSL\n",
          "name": "stdout"
        }
      ]
    },
    {
      "metadata": {},
      "cell_type": "markdown",
      "source": "### Assignment 4: Create a class that models/represents proteins:\nNow, create a method that will generate a human-readable string representation of a Protein object when passed to print(). Take care that sequences longer than 20 amino acids get truncated. Hint: use `__str__`\n\n"
    },
    {
      "metadata": {
        "trusted": true
      },
      "cell_type": "code",
      "source": "class Protein():\n    def __init__(self, sequence, name='UNNAMED PROTEIN'):\n        self.sequence= sequence\n        self.name = name\n\n    def __str__(self):\n        if len(self.sequence) < 20: \n            s = 'Protein[name={}, seq={}]'.format(self.name, self.sequence)\n        else:\n            s = 'Protein[name={}, seq={}]'.format(self.name, self.sequence[0:20]+'...')\n        return s\n\nprot = Protein(\"MEEGMNVLHDFGIQSTHYLQVNYQAVVPLASVSVIPYCLAQVLGQPHKKSL\",\"Glucose-6-phospatase\")\nprint(prot)",
      "execution_count": 11,
      "outputs": [
        {
          "output_type": "stream",
          "text": "Protein[name=Glucose-6-phospatase, seq=MEEGMNVLHDFGIQSTHYLQ...]\n",
          "name": "stdout"
        }
      ]
    },
    {
      "metadata": {},
      "cell_type": "markdown",
      "source": "### Assignment 5: Create a class that models/represents proteins:\nCreate a method that will generate a string representation of the protein in Fasta format. Look this format up on internet if you are not sure about it"
    },
    {
      "metadata": {
        "trusted": true
      },
      "cell_type": "code",
      "source": "class Protein():\n    def __init__(self, sequence, name='UNNAMED PROTEIN'):\n        self.sequence= sequence\n        self.name = name\n\n        \n    def __str__(self):\n        if len(self.sequence) < 20: \n            s = 'Protein[name={}, seq={}]'.format(self.name, self.sequence)\n        else:\n            s = 'Protein[name={}, seq={}]'.format(self.name, self.sequence[0:20]+'...')\n        return s\n\n    \n    def to_fasta(self):\n          return '>{}\\n{}\\n'.format(self.name, self.sequence)\n    \nprot = Protein(\"MEEGMNVLHDFGIQSTHYLQVNYQAVVPLASVSVIPYCLAQVLGQPHKKSL\",\"Glucose-6-phospatase\")\nprint(prot.to_fasta())",
      "execution_count": 13,
      "outputs": [
        {
          "output_type": "stream",
          "text": ">Glucose-6-phospatase\nMEEGMNVLHDFGIQSTHYLQVNYQAVVPLASVSVIPYCLAQVLGQPHKKSL\n\n",
          "name": "stdout"
        }
      ]
    },
    {
      "metadata": {},
      "cell_type": "markdown",
      "source": "### Assignment 6: Create a class that models/represents restriction enzymes, \nCreate a constructor that takes two arguments, the name and the recognition sequence.\n"
    },
    {
      "metadata": {
        "trusted": true
      },
      "cell_type": "code",
      "source": "class RestrictionEnzyme():\n    def __init__(self, name, recognitionSeq):\n        self.name = name\n        self.recognitionSeq = recognitionSeq.upper()",
      "execution_count": 16,
      "outputs": []
    },
    {
      "metadata": {},
      "cell_type": "markdown",
      "source": "### Assignment 7: Create a class that models/represents restriction enzymes\nCreate a method that will generate a human-readable string representation of a RestrictionEnzyme object when passed to print(). (see assingment 4)"
    },
    {
      "metadata": {
        "trusted": true
      },
      "cell_type": "code",
      "source": "class RestrictionEnzyme():\n    def __init__(self, name, recognitionSeq):\n        self.name = name\n        self.recognitionSeq = recognitionSeq.upper()\n    def __str__(self):\n        return '{} [{}]'.format(self.name, self.recognitionSeq)\n\nenz = RestrictionEnzyme('HincII', 'GTYRAC')\nprint(enz)\n",
      "execution_count": 26,
      "outputs": [
        {
          "output_type": "stream",
          "text": "HincII [GTYRAC]\n",
          "name": "stdout"
        }
      ]
    },
    {
      "metadata": {},
      "cell_type": "markdown",
      "source": "### Assignment 8: Refactor\nModify this script to make use of objects of a class, RestrictionEnzyme, that models the tuples in the list. Implement and use the `__str__()` method as well."
    },
    {
      "metadata": {
        "trusted": true
      },
      "cell_type": "code",
      "source": "import re\nclass RestrictionEnzyme():\n    def __init__(self, name, pattern, recognitionSeq):\n        self.name = name\n        self.pattern= pattern\n        self.recognitionSeq = recognitionSeq\n    def __str__(self):\n        return '{} [{}]'.format(self.name, self.recognitionSeq)\n\nseq = 'ACAGTCGACTGATCGGGTTGACCCATAGCTACGGTGAAAGCTT'\nresEnz=[(RestrictionEnzyme('HincII', 'GT[CT][AG]AC', 'GTYRAC')),\n        (RestrictionEnzyme('HpyCH4III', 'AC[ACGT]GT', 'ACNGT')),\n        (RestrictionEnzyme('AluI', 'AGCT', 'AGCT'))]\n\nfor enz in resEnz:\n    p = re.compile(enz.pattern)\n    for m in p.finditer(seq):\n        print( '{}: position={}, sequence={}'.format(enz, m.start(), m.group()))",
      "execution_count": 24,
      "outputs": [
        {
          "output_type": "stream",
          "text": "HincII [GTYRAC]: position=3, sequence=GTCGAC\nHincII [GTYRAC]: position=16, sequence=GTTGAC\nHpyCH4III [ACNGT]: position=0, sequence=ACAGT\nHpyCH4III [ACNGT]: position=30, sequence=ACGGT\nAluI [AGCT]: position=26, sequence=AGCT\nAluI [AGCT]: position=38, sequence=AGCT\n",
          "name": "stdout"
        }
      ]
    }
  ],
  "metadata": {
    "kernelspec": {
      "name": "python3",
      "display_name": "Python 3",
      "language": "python"
    },
    "language_info": {
      "mimetype": "text/x-python",
      "nbconvert_exporter": "python",
      "name": "python",
      "file_extension": ".py",
      "version": "3.5.4",
      "pygments_lexer": "ipython3",
      "codemirror_mode": {
        "version": 3,
        "name": "ipython"
      }
    }
  },
  "nbformat": 4,
  "nbformat_minor": 2
}