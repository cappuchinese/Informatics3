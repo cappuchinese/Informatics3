{
  "cells": [
    {
      "metadata": {
        "collapsed": true
      },
      "cell_type": "markdown",
      "source": "## FAQ\n\nIn dit notebook zullen alle Frequently Asked Questions beantwoord worden. Dit notebook zal elke keer geupdate worden bij een nieuwe vraag"
    },
    {
      "metadata": {},
      "cell_type": "markdown",
      "source": "# Uitwerkingen Informatica2\n\nDeze kun je vinden op https://bfvp3inf2-ffeenstra.notebooks.azure.com/j/tree/uitwerkingen\n"
    },
    {
      "metadata": {},
      "cell_type": "markdown",
      "source": "## Hoe pak je een vraag als week 6 q2 aan?\n\nDe vraag is een vraag die je met een geneste hogere orde functie kunt oplossen. Het makkelijkste is om eerst de vraag te analyseren, dan de stappen te identificeren en dan deze ook stap voor stap op te lossen. Gevraagd wordt All the maximum values of the tuples in a list, the average of the tuples and containing the odd numbers. Als je goed leest wordt er dus gevraagd om \n\n1. de oneven nummers te filteren per tuple\n2. het maximum per tuple te bepalen van die gefilterde tuples\n3. het gemiddelde te berekenen over die maxima\n\nDit kunnen we stap voor stap uit programmeren met behulp van map en filter. `map()` Gebruiken we om elk element uit de lijst te bewerken, `filter()` gebruiken we om alleen die dingen te gebruiken die we willen (oneven nummers en gevulde tuples)"
    },
    {
      "metadata": {
        "trusted": true
      },
      "cell_type": "code",
      "source": "##week 6 quiz q2\n\"\"\" \n    Write code to obtain a list with…\n    All the maximum values of these tuples.\n    The averages of these tuples.\n    Tuples containing only the odd numbers. \n\"\"\"\n\n# create short functions to do the filter step\ndef odd(t):\n    ft = tuple(filter(lambda x: x%2!=0, t))\n    return ft\n\ndef empty(l):\n    y = filter(lambda x: (len(x)>0), l)\n    return y\n\n#test list\nl = [(2,1,3),(1,5,3,1),(7,3,5),(6,8),(1,4,2)]\n\n#filter odd numbers\nodd_l = list(map(lambda x: odd(x), l))\nprint('\\n filtered numbers\\n', odd_l)\n\n#combine with filter empty tuple\nfl = list(empty(map(lambda x: odd(x), l)))\nprint('\\n corrected for empty\\n', fl)\n\n# get the max \nml = list(map(lambda x: max(x), fl))\nprint('\\n max value from each tuple\\n' , ml)\n\n#get the average\nmean = (sum(ml)/len(ml))\nprint('\\n mean of the list\\n', mean)\n\n\n\n# now do all in nested manner\n\ndef q2(l):\n    ml = list(map(lambda x: max(x), list(empty(map(lambda x: odd(x), l)))))\n    return (sum(ml)/len(ml))",
      "execution_count": 1,
      "outputs": [
        {
          "output_type": "stream",
          "text": "\n filtered numbers\n [(1, 3), (1, 5, 3, 1), (7, 3, 5), (), (1,)]\n\n corrected for empty\n [(1, 3), (1, 5, 3, 1), (7, 3, 5), (1,)]\n\n max value from each tuple\n [3, 5, 7, 1]\n\n mean of the list\n 4.0\n",
          "name": "stdout"
        }
      ]
    },
    {
      "metadata": {
        "trusted": true
      },
      "cell_type": "markdown",
      "source": "# Reguliere expressies"
    },
    {
      "metadata": {
        "trusted": true
      },
      "cell_type": "code",
      "source": "import re",
      "execution_count": 1,
      "outputs": []
    },
    {
      "metadata": {},
      "cell_type": "markdown",
      "source": "### 1. Exacte match versus een match als het patroon voorkomt in de string"
    },
    {
      "metadata": {},
      "cell_type": "markdown",
      "source": "**Vraag**: Hoe komt het dat als ik onderstaande code run ook de gggg en gggH als match krijg? Ik geef toch op \n\n    [A-Z]? = 1e letter een hoofdletter optioneel\n    [0-9a-z]{3} gevolgd door drie kleine letters of cijfers.\n    \nDus hoe kan ik dan vier kleine zoals 'gggg'  matchen of '15bb'?"
    },
    {
      "metadata": {
        "trusted": true
      },
      "cell_type": "code",
      "source": "\"\"\"Given this pattern, [A-Z]?[0-9a-z]{3} which of the search strings will match?\"\"\"\nl = ['ad', 'add', 'A000', 'gggg', 'ggggH', 'Q12H', 'R0v1', '15bb']\npat = \"[A-Z]?[0-9a-z]{3}\"\nsolution = [word for word in l if re.match(pat, word)]\nprint(solution)\n",
      "execution_count": 2,
      "outputs": [
        {
          "output_type": "stream",
          "text": "['add', 'A000', 'gggg', 'ggggH', 'R0v1', '15bb']\n",
          "name": "stdout"
        }
      ]
    },
    {
      "metadata": {},
      "cell_type": "markdown",
      "source": "**Antwoord**: `re.match()` returned de gehele string waar het patroon in voorkomt. Je hebt niet opgegeven dat je alleen maar op zoek bent naar het patroon in zijn geheel. Dus als het patroon in de string voorkomt beschouwt hij dat als match. Om dat specifiek aan te geven zou je iets moetje ook aangeven dat het patroon van begin tot eind gevraagd wordt  \n\n    ^[A-Z]? de string moet beginnen met 1e letter als hoofdletter (optioneel) \n    [0-9a-z]{3}$ gevolgd door en ook eindigen met drie kleine letter of cijfers\n"
    },
    {
      "metadata": {
        "trusted": true
      },
      "cell_type": "code",
      "source": "l = ['ad', 'add', 'A000', 'gggg', 'ggggH', 'Q12H', 'R0v1', '15bb']\npat = \"^[A-Z]?[0-9a-z]{3}$\"\nsolution = [word for word in l if re.match(pat, word)]\nprint(solution)",
      "execution_count": 3,
      "outputs": [
        {
          "output_type": "stream",
          "text": "['add', 'A000', 'R0v1']\n",
          "name": "stdout"
        }
      ]
    },
    {
      "metadata": {},
      "cell_type": "markdown",
      "source": "Een andere manier om het effect te krijgen van de gehele string returnen als het patroon ergens in de string voorkomt is door dat expliciet aan te geven met `.` (elk teken) `*` 0 of meerdere keren zowel voor het patroon als achter het patroon"
    },
    {
      "metadata": {
        "trusted": true
      },
      "cell_type": "code",
      "source": "l = ['ad', 'add', 'A000', 'gggg', 'ggggH', 'Q12H', 'R0v1', '15bb']\npat = \"^.*[A-Z]?[0-9a-z]{3}.*$\"\nsolution = [word for word in l if re.match(pat, word)]\nprint(solution)",
      "execution_count": 4,
      "outputs": [
        {
          "output_type": "stream",
          "text": "['add', 'A000', 'gggg', 'ggggH', 'R0v1', '15bb']\n",
          "name": "stdout"
        }
      ]
    },
    {
      "metadata": {},
      "cell_type": "markdown",
      "source": "`Q12H` matched in dit geval niet omdat het gezochte patroon niet in die string voorkomt. Bij `gggg` is dat wel het geval, in `gggg` zit `ggg`."
    },
    {
      "metadata": {},
      "cell_type": "markdown",
      "source": "### 2. Wat is beter, specifiek of generiek?\nDeels hangt dat af van de context in gebruik. Maar over het algemeen wil je geen onbedoelde matches terugkrijgen. Wen jezelf dus aan om in plaats van `+` teken voor 1 of meerdere tekens de exacte range van lengte mee te geven door de accolades. Of in plaats van `.` symbool voor alle mogelijke tekens het `\\w` symbool te gebruiken voor alfanumerieke tekens"
    },
    {
      "metadata": {
        "trusted": true
      },
      "cell_type": "code",
      "source": "l = [\"aaad\", \"aAddd\", \"aaa2ddd\", \"a6dD\"]\npat = \"a{1,3}\\w[dD]{1,2}\"\nsolution = [word for word in l if re.match(pat, word)]\nprint(solution)",
      "execution_count": 5,
      "outputs": [
        {
          "output_type": "stream",
          "text": "['aaad', 'aAddd', 'aaa2ddd', 'a6dD']\n",
          "name": "stdout"
        }
      ]
    },
    {
      "metadata": {},
      "cell_type": "markdown",
      "source": "### 3. Hoe match ik symbolen als tekst die in reguliere expressie taal een betekenis hebben zoals `|`"
    },
    {
      "metadata": {},
      "cell_type": "markdown",
      "source": "In reguliere expressies komen een aantal tekens voor die `escaped` moeten worden om ze letterlijk als tekst te gebruiken. Dat zijn \n\n    backslash \\\n    dakje ^\n    punt .\n    Pipe symbool |\n    vraagteken ?\n    asterisk *\n    plusteken +\n    opening haakje (\n    sluit haakje )\n    opening blokhaakje [\n    sluit blokhaakje ]\n    opening accolade {\n    sluit accolade }\n    dollarteken $\n    \nIn een reguliere expressie geven we met een backslash `\\` aan dat we een symbool letterlijk willen. Onderstaand is een voorbeeld "
    },
    {
      "metadata": {
        "trusted": true
      },
      "cell_type": "code",
      "source": "l = [\"foo 123|\", \"bar 211\\\\\", \"baz 2339|\", \"eek 831\\\\\"]\npat = \"[a-z]{3} \\d{3,4}[\\|\\\\\\]\"",
      "execution_count": 6,
      "outputs": []
    },
    {
      "metadata": {},
      "cell_type": "markdown",
      "source": "### 4. Waarom geeft runs als resultaat niet het '(' haakje?"
    },
    {
      "metadata": {
        "trusted": true
      },
      "cell_type": "code",
      "source": "pattern = r\"(\\w+)\\(\" # definitie van het patroon\ns = \"KIAA1279(dist=6336),SRGN(dist=64753)CCSER2(dist=489626)\" # de string die we willen doorzoeken                    \nruns = re.findall(pattern, s) #de methode om te zoeken: vind alle strings die matchen met het patroon\nprint(runs)  # het resultaat",
      "execution_count": 7,
      "outputs": [
        {
          "output_type": "stream",
          "text": "['KIAA1279', 'SRGN', 'CCSER2']\n",
          "name": "stdout"
        }
      ]
    },
    {
      "metadata": {},
      "cell_type": "markdown",
      "source": "Dit komt omdat (\\w+) tussen haakjes staat. Het gaat hier om het principe \n\n    (dit is binnen de haakjes) dit is buiten de haakjes\n\n`KIAA1279(` is een full match en `KIAA1279` is de eerste group match. de groupsmatch wordt gespecificeerd door wat binnen de haakjes staat. findall gebruikt deze group match als resultaat"
    },
    {
      "metadata": {},
      "cell_type": "markdown",
      "source": "### 5. Wanneer gebruik je nu ^ of &"
    },
    {
      "metadata": {},
      "cell_type": "markdown",
      "source": "`^` Gebruik je als je wilt dat het begin van de string begint met een specifieke karakter (of karakters) en `&` als je wilt dat het speciek eindigt met een specifieke karakter (of karakters). Je bent dan op zoek naar een heel specifiek patroon. Een voorbeeld van zo'n specifiek complex patroon is bijvoorbeeld een eukaryotic messenger RNA sequence. Stel je wilt de gehele lengte weten van zo'n sequence. Dan is het zaak dat je de hele sequence matched. Je gaat dan op zoek naar wat maakt nu een sequence een eukaryotic messenger RNA sequence. Dat is\n\n1. een specifieke startcodon (AUG) \n2. gevolgd door RNA bases\n3. een poly-A tail tussen 5 en 10 bases aan het eind van de sequence\n\nzoals je ziet zitten er aan het patroon specifieke eisen voor het begin (start codon AUG) en specieke eisen aan het eind (poly-tail A tussen 5 en 10 bases). Op zo'n moment maken we gebruik van `^` en `&`\n\n1. een specifieke startcodon (AUG)  -> `^AUG`\n2. gevolgd door RNA bases (dus of A of U of C of G) , in dit geval tussen de 30 en 1000 -> [AUGC]{30,1000}\n3. een poly-A tail tussen 5 en 10 bases aan het eind van de sequence -> `A{5,10}$`"
    },
    {
      "metadata": {},
      "cell_type": "markdown",
      "source": "### 6. Wat is het verschil tussen ? en +"
    },
    {
      "metadata": {},
      "cell_type": "markdown",
      "source": "<p>`?` is **nul of één keer** overeenkomen, dus dat betekent feitelijk dat één karakter optioneel is</p>\n<p>`+` is **één of meerdere keren** overeenkomen</p>\n<p>`*` is **nul of meerdere keren** overeenkomen, dus dat betekent dat iets optioneel is maar ook meerdere keren kan voorkomen</p>\nBeter is om een lengterange mee te geven als je die weet in plaats van een open einde dat iets meerdere keren kan voorkomen"
    },
    {
      "metadata": {
        "trusted": true
      },
      "cell_type": "code",
      "source": "",
      "execution_count": null,
      "outputs": []
    }
  ],
  "metadata": {
    "kernelspec": {
      "name": "python36",
      "display_name": "Python 3.6",
      "language": "python"
    },
    "language_info": {
      "mimetype": "text/x-python",
      "nbconvert_exporter": "python",
      "name": "python",
      "pygments_lexer": "ipython3",
      "version": "3.6.6",
      "file_extension": ".py",
      "codemirror_mode": {
        "version": 3,
        "name": "ipython"
      }
    }
  },
  "nbformat": 4,
  "nbformat_minor": 2
}