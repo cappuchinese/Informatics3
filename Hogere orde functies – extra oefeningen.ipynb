{
 "cells": [
  {
   "cell_type": "markdown",
   "id": "strong-departure",
   "metadata": {},
   "source": [
    "# Extra oefeningen met de hogere orde functies."
   ]
  },
  {
   "cell_type": "markdown",
   "id": "durable-occasions",
   "metadata": {},
   "source": [
    "Hieronder wat extra oefeningen met de hogere orde functies. De check wordt gedaan met `assert`, dat betekent dat je uitwerking voldoet aan de eis als je niks te zien krijgt; dat betekent nog niet dat je uitwerking *goed* is. Bestudeer ook de `assert`-statements om een beeld te krijgen van wat er exact verwacht wordt."
   ]
  },
  {
   "cell_type": "markdown",
   "id": "extensive-toyota",
   "metadata": {},
   "source": [
    "Maak gebruik van `map` om de onderstaande lijst van cijfers om te zetten in een lijst van dezelfde cijfers maar dan met maar één cijfer achter de komma (decimaal-punt in dit geval). Je kunt gebruik maken van de python-methode `round`."
   ]
  },
  {
   "cell_type": "code",
   "execution_count": 49,
   "id": "raising-forum",
   "metadata": {},
   "outputs": [],
   "source": [
    "nrs = [3.56773, 5.57668, 4.00914, 56.24241, 9.01344, 32.00013]\n",
    "\n",
    "# YOUR CODE HERE\n",
    "r = list(map(lambda x: round(x, 1), nrs))\n",
    "\n",
    "assert (r==[3.6, 5.6, 4.0, 56.2, 9.0, 32.0])"
   ]
  },
  {
   "cell_type": "markdown",
   "id": "legal-westminster",
   "metadata": {},
   "source": [
    "Maak gebruik van `map` om dezelfde lijst van getallen om te zetten in hun kwadraat. Rond dit kwadraat af op twee getallen achter de komma (decimale punt)"
   ]
  },
  {
   "cell_type": "code",
   "execution_count": 50,
   "id": "cardiovascular-sweet",
   "metadata": {},
   "outputs": [],
   "source": [
    "# YOUR CODE HERE\n",
    "r = r = list(map(lambda x: round(x**2, 2), nrs))\n",
    "assert (r == [12.73, 31.1, 16.07, 3163.21, 81.24, 1024.01])"
   ]
  },
  {
   "cell_type": "markdown",
   "id": "fantastic-invitation",
   "metadata": {},
   "source": [
    "Maak een lijst waarin alleen die die getallen voorkomen die als `int` *even* (dus deelbaar door twee) zijn. Maak gebruik van `filter` en zorg ervoor dat je uitwerking in één regel code gebeurt. Om een getal naar een `int` te casten kun je gebruik maken van de volgende voorbeeldcode:\n",
    "\n",
    "```ipython\n",
    "In [1]: f = 3.14159265\n",
    "\n",
    "In [2]: int(f)\n",
    "Out[2]: 3\n",
    "\n",
    "In [3]: \n",
    "```"
   ]
  },
  {
   "cell_type": "code",
   "execution_count": 51,
   "id": "liked-samoa",
   "metadata": {},
   "outputs": [],
   "source": [
    "# YOUR CODE HERE\n",
    "r = list(filter(lambda x: int(x) % 2 == 0, nrs))\n",
    "assert (r == [4.00914, 56.24241, 32.00013])"
   ]
  },
  {
   "cell_type": "markdown",
   "id": "endless-instruction",
   "metadata": {},
   "source": [
    "Maak een lijst waarin alleen de getallen voorkomen die groter zijn dan 10. Maak gebruik van `filter`."
   ]
  },
  {
   "cell_type": "code",
   "execution_count": 52,
   "id": "round-hamburg",
   "metadata": {},
   "outputs": [],
   "source": [
    "# YOUR CODE HERE\n",
    "r = list(filter(lambda x: x > 10, nrs))\n",
    "assert (r == [56.24241, 32.00013])"
   ]
  },
  {
   "cell_type": "markdown",
   "id": "hawaiian-somalia",
   "metadata": {},
   "source": [
    "Maak gebruik van `functools.reduce` om de som van de getallen te bepalen."
   ]
  },
  {
   "cell_type": "code",
   "execution_count": 53,
   "id": "friendly-operator",
   "metadata": {},
   "outputs": [],
   "source": [
    "import functools\n",
    "# YOUR CODE HERE\n",
    "val = functools.reduce(lambda x, y: x+y, nrs)\n",
    "assert (val == 110.40953)"
   ]
  },
  {
   "cell_type": "markdown",
   "id": "boring-updating",
   "metadata": {},
   "source": [
    "Maak gebruik van `functools.reduce` om het totaal van alle nummers *met 1 verhoogd* te bepalen (dus in plaats van $3.56773 + 5.57668 + ...$, doe je $4.56773 + 6.57668 + ...$)"
   ]
  },
  {
   "cell_type": "code",
   "execution_count": 54,
   "id": "informational-single",
   "metadata": {},
   "outputs": [],
   "source": [
    "# YOUR CODE HERE\n",
    "val = functools.reduce(lambda x, y: (x+1)+y, nrs)\n",
    "assert (val == 115.40953)"
   ]
  },
  {
   "cell_type": "markdown",
   "id": "sacred-drama",
   "metadata": {},
   "source": [
    "Maak gebruik van `filter` en `reduce` om het totaal van alle cijfers die groter zijn dan 10 te bepalen. Cast het resultaat naar een `int`."
   ]
  },
  {
   "cell_type": "code",
   "execution_count": 55,
   "id": "hungarian-hygiene",
   "metadata": {},
   "outputs": [],
   "source": [
    "# YOUR CODE HERE\n",
    "r = int(functools.reduce(lambda x, y: x+y, filter(lambda x: x>10, nrs)))\n",
    "assert (r==88)"
   ]
  },
  {
   "cell_type": "markdown",
   "id": "partial-heading",
   "metadata": {},
   "source": [
    "Maak gebruik van de onderstaande variabele `numbers` om het getal opgeslagen in `nr` om te zetten in de uitgesproken string. Je moet hiervoor `nr` omzetten in een String om over de individuele cijfers heen te kunnen itereren. Dit itereren mag je eenvoudig met een *list comprehension* doen. Maak gebruik van `map` om een lijst hiervan te maken."
   ]
  },
  {
   "cell_type": "code",
   "execution_count": 56,
   "id": "photographic-sheet",
   "metadata": {},
   "outputs": [],
   "source": [
    "numbers = ['nul','één','twee','drie','vier','vijf','zes','zeven','acht','negen']\n",
    "nr = 1425\n",
    "\n",
    "# YOUR CODE HERE\n",
    "r = ...\n",
    "assert (r == ['één', 'vier', 'twee', 'vijf'])"
   ]
  },
  {
   "cell_type": "markdown",
   "id": "opponent-bulgarian",
   "metadata": {},
   "source": [
    "Maak vervolgens gebruik van `reduce` om het telefoonnummer hieronder (in `nr`) om te zetten in een gespelde versie, zoals hierboven. Zorg er daarbij voor dat het nummer voorafgegaan wordt door 'nul'."
   ]
  },
  {
   "cell_type": "code",
   "execution_count": 59,
   "id": "serious-suspect",
   "metadata": {},
   "outputs": [
    {
     "name": "stdout",
     "output_type": "stream",
     "text": [
      "nul-zes-drie-één-vier-vijf-twee-zeven-acht-één\n"
     ]
    }
   ],
   "source": [
    "nr = 631452781\n",
    "# YOUR CODE HERE\n",
    "r = ...\n",
    "assert (r == 'nul-zes-drie-één-vier-vijf-twee-zeven-acht-één')"
   ]
  }
 ],
 "metadata": {
  "kernelspec": {
   "display_name": "Python 3",
   "language": "python",
   "name": "python3"
  },
  "language_info": {
   "codemirror_mode": {
    "name": "ipython",
    "version": 3
   },
   "file_extension": ".py",
   "mimetype": "text/x-python",
   "name": "python",
   "nbconvert_exporter": "python",
   "pygments_lexer": "ipython3",
   "version": "3.8.7"
  }
 },
 "nbformat": 4,
 "nbformat_minor": 5
}