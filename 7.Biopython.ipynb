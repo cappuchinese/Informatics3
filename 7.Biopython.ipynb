{
  "cells": [
    {
      "metadata": {},
      "cell_type": "markdown",
      "source": "# Biopython\n\nAls je een probleem wilt oplossen, neem dan even de tijd en kijk of iemand anders (een deel van) het probleem al voor je heeft opgelost. \nIn dit deel gaan we kijken naar een library die relevant kan zijn voor je bio-informatica-uitdagingen: **Biopython**. Biopython is een hele nuttige library met functionaliteiten voor het parsen van allerlei bioinf bestanden zoals Blast outputs, PDB, FASTA, GenBank etc. Ook kan het makkelijk omgaan met portals zoals NCBI. Het heeft allerlei methodes beschikbaar voor het bewerken van sequences zoals transcriptions, translations, \nHulpmiddelen voor het uitvoeren van algemene bewerkingen op sequenties, zoals vertaling, transcriptie en gewichtsberekeningen, code voor allignments en nog veel meer. "
    },
    {
      "metadata": {},
      "cell_type": "raw",
      "source": "#installeren biopython via terminal\npip install biopython\npip install --upgrade biopython"
    },
    {
      "metadata": {},
      "cell_type": "markdown",
      "source": "zie ook https://github.com/biopython/biopython/blob/master/README.rst"
    },
    {
      "metadata": {},
      "cell_type": "markdown",
      "source": "Laten we eens kijken naar de Sequentie class"
    },
    {
      "metadata": {
        "trusted": false
      },
      "cell_type": "code",
      "source": "from Bio.Seq import Seq\ndir(Seq)",
      "execution_count": null,
      "outputs": []
    },
    {
      "metadata": {},
      "cell_type": "markdown",
      "source": "Zoals je ziet zit er van allerlei methodes in de Seq class. Laten we er eens een wat meer bestuderen"
    },
    {
      "metadata": {
        "trusted": false
      },
      "cell_type": "code",
      "source": "help(Seq.ungap)",
      "execution_count": null,
      "outputs": []
    },
    {
      "metadata": {},
      "cell_type": "markdown",
      "source": "## Doe opdracht\n1. Bekijk de methode `Seq.reverse_complement()` en de `methode Seq.count()`\n2. Maak een test scriptje om de code uit de beschrijvingen uit te proberen\n---"
    },
    {
      "metadata": {},
      "cell_type": "markdown",
      "source": "## Analyseer opdracht\nHieronder zie je een stukje code. Beschrijf in je eigen woorden wat de code doet en hoe het werkt"
    },
    {
      "metadata": {
        "trusted": false
      },
      "cell_type": "code",
      "source": "from Bio.Seq import Seq\nfrom Bio.Alphabet import IUPAC\n\ncoding_dna = Seq(\"ATGGCCATTGTAATGGGCCGCTGAAAGGGTGCCCGATAG\", IUPAC.unambiguous_dna)\nmessenger_rna = coding_dna.transcribe()\nprint(repr(messenger_rna))\nprint(messenger_rna.translate())\nprint(messenger_rna.translate(to_stop=True))",
      "execution_count": 14,
      "outputs": [
        {
          "name": "stdout",
          "output_type": "stream",
          "text": "Seq('AUGGCCAUUGUAAUGGGCCGCUGAAAGGGUGCCCGAUAG', IUPACUnambiguousRNA())\nMAIVMGR*KGAR*\nMAIVMGR\n"
        }
      ]
    },
    {
      "metadata": {},
      "cell_type": "markdown",
      "source": "---\nBiopython is ook heel handig voor het analyseren van meta data bij bijvoorbeeld een multifasta file"
    },
    {
      "metadata": {
        "trusted": false
      },
      "cell_type": "code",
      "source": "from Bio import SeqIO\n\nfor seq_record in SeqIO.parse(\"data/multi.fasta\", \"fasta\"):\n    print(seq_record.id)\n    print(repr(seq_record.seq))\n    print(len(seq_record))",
      "execution_count": 1,
      "outputs": [
        {
          "name": "stdout",
          "output_type": "stream",
          "text": "KY785484.1:5000-10596\nSeq('GGGAGAGTGATAGGACTTTATGGCAATGGGGTCGTGATCAAAAATGGGAGTTAT...CAG', SingleLetterAlphabet())\n5597\nKY785481.1:5000-10058\nSeq('AGTGTGGGAGAGTGATAGGACTTTATGGCAATGGGGTCGTGATCAAAAACGGGA...AGA', SingleLetterAlphabet())\n5059\nKY785480.1:5000-10123\nSeq('CTCTGGAACAGAAATCGTCGACTTAATGTGCCATGCCACCTTCACTTCACGTCT...AGA', SingleLetterAlphabet())\n5124\nKY785479.1:5000-10364\nSeq('NNNNNNNNNNNNNNNNNNNNNNNNNNNNNNNNNNNNNNNNNNNNNNNNNNNNNN...GGC', SingleLetterAlphabet())\n5365\n"
        }
      ]
    },
    {
      "metadata": {},
      "cell_type": "markdown",
      "source": "---\nof het uitlezen van genbank files\n"
    },
    {
      "metadata": {
        "trusted": false
      },
      "cell_type": "code",
      "source": "from Bio import SeqIO\nfrom Bio.SeqUtils import GC\n\nfor seq_record in SeqIO.parse(\"data/BRCA1.gbk\", \"genbank\"):\n    print(seq_record.id)\n    print(seq_record.annotations['organism'])\n    print(seq_record.description)\n    print(seq_record.seq[1:100])\n    print(GC(seq_record.seq))\n    print(seq_record.features[0])",
      "execution_count": 12,
      "outputs": [
        {
          "name": "stdout",
          "output_type": "stream",
          "text": "NG_005905.2\nHomo sapiens\nHomo sapiens breast cancer 1, early onset (BRCA1), RefSeqGene (LRG_292) on chromosome 17\nTACCTTGATTTCGTATTCTGAGAGGCTGCTGCTTAGCGGTAGCCCCTTGGTTTCCGTGGCAACGGAAAAGCGCGGGAATTACAGATAAATTAAAACTGC\n42.92946088755866\ntype: source\nlocation: [0:81189](+)\nqualifiers:\n    Key: chromosome, Value: ['17']\n    Key: db_xref, Value: ['taxon:9606']\n    Key: map, Value: ['17q21']\n    Key: mol_type, Value: ['genomic DNA']\n    Key: organism, Value: ['Homo sapiens']\n\n"
        }
      ]
    },
    {
      "metadata": {},
      "cell_type": "markdown",
      "source": "## Visualisatie met Biopython\nBiopython heeft ook een visualisatie classe `Bio.Graphics` De Bio.Graphics-module is afhankelijk van de Python-module `ReportLab`. Hoewel `ReportLab` gericht is op het produceren van PDF-bestanden, kan het ook ingekapselde PostScript- (EPS) en (SVG) -bestanden maken. Ook kan ReportLab, mits de Library (PIL) geinstalleerd is, ook  JPEG-, PNG-, GIF-, en BMP- bestanden maken\n"
    },
    {
      "metadata": {
        "trusted": true
      },
      "cell_type": "code",
      "source": "from reportlab.lib import colors\nfrom reportlab.lib.units import cm\nfrom Bio.Graphics import GenomeDiagram\nfrom Bio import SeqIO\nfrom Bio.SeqFeature import SeqFeature, FeatureLocation\n\nrecord = SeqIO.read(\"data/NC_005816.gb\", \"genbank\")\n\ngd_diagram = GenomeDiagram.Diagram(record.id)\ngd_track_for_features = gd_diagram.new_track(1, name=\"Annotated Features\")\ngd_feature_set = gd_track_for_features.new_set()\n\nfor feature in record.features:\n    if feature.type != \"gene\":\n        #Exclude this feature\n        continue\n    if len(gd_feature_set) % 2 == 0:\n        color = colors.blue\n    else:\n        color = colors.lightblue\n    gd_feature_set.add_feature(feature, sigil=\"ARROW\",\n                               color=color, label=True,\n                               label_size = 14, label_angle=0)\n\n#I want to include some strandless features, so for an example\n#will use EcoRI recognition sites etc.\nfor site, name, color in [(\"GAATTC\",\"EcoRI\",colors.green),\n                          (\"CCCGGG\",\"SmaI\",colors.orange),\n                          (\"AAGCTT\",\"HindIII\",colors.red),\n                          (\"GGATCC\",\"BamHI\",colors.purple)]:\n    index = 0\n    while True:\n        index  = record.seq.find(site, start=index)\n        if index == -1 : break\n        feature = SeqFeature(FeatureLocation(index, index+len(site)))\n        gd_feature_set.add_feature(feature, color=color, name=name,\n                                   label=True, label_size = 10,\n                                   label_color=color)\n        index += len(site)\n\ngd_diagram.draw(format=\"linear\", pagesize='A4', fragments=4,\n                start=0, end=len(record))\ngd_diagram.write(\"plasmid_linear_nice.pdf\", \"PDF\")\ngd_diagram.write(\"plasmid_linear_nice.eps\", \"EPS\")\ngd_diagram.write(\"plasmid_linear_nice.svg\", \"SVG\")\n\ngd_diagram.draw(format=\"circular\", circular=True, pagesize=(20*cm,20*cm),\n                start=0, end=len(record), circle_core = 0.5)\ngd_diagram.write(\"plasmid_circular_nice.pdf\", \"PDF\")\ngd_diagram.write(\"plasmid_circular_nice.eps\", \"EPS\")\ngd_diagram.write(\"plasmid_circular_nice.svg\", \"SVG\")",
      "execution_count": null,
      "outputs": []
    },
    {
      "metadata": {
        "trusted": true
      },
      "cell_type": "code",
      "source": "%%html\n<img src = 'images/plasmid_circular_nice.pdf' />",
      "execution_count": 10,
      "outputs": [
        {
          "output_type": "display_data",
          "data": {
            "text/html": "<img src = 'images/plasmid_circular_nice.pdf' />",
            "text/plain": "<IPython.core.display.HTML object>"
          },
          "metadata": {}
        }
      ]
    },
    {
      "metadata": {
        "trusted": true
      },
      "cell_type": "code",
      "source": "%%html\n<img src = 'images/plasmid_linear_nice.pfd' />",
      "execution_count": 8,
      "outputs": [
        {
          "output_type": "display_data",
          "data": {
            "text/html": "<img src = 'images/plasmid_linear_nice.pfd' />",
            "text/plain": "<IPython.core.display.HTML object>"
          },
          "metadata": {}
        }
      ]
    },
    {
      "metadata": {},
      "cell_type": "markdown",
      "source": "Bron: https://biopython-cn.readthedocs.io/zh_CN/latest/en/chr17.html en https://youtu.be/l8wLaoEGbUI"
    },
    {
      "metadata": {},
      "cell_type": "markdown",
      "source": "## Lees opdracht\n\nBekijk http://biopython.org/DIST/docs/tutorial/Tutorial.html#htoc2 en https://biopython.org/wiki/Category%3ACookbook\nen https://biopython.org/wiki/Seq\nWelke code uit biopython kun je gebruiken voor de opdracht die hier beschreven staat? https://bioinf.nl/~fennaf/minor/WC02_IO2.html. En welke voor je practicum opdracht :-)\n    "
    }
  ],
  "metadata": {
    "kernelspec": {
      "name": "python3",
      "display_name": "Python 3",
      "language": "python"
    },
    "language_info": {
      "mimetype": "text/x-python",
      "nbconvert_exporter": "python",
      "name": "python",
      "pygments_lexer": "ipython3",
      "version": "3.5.4",
      "file_extension": ".py",
      "codemirror_mode": {
        "version": 3,
        "name": "ipython"
      }
    }
  },
  "nbformat": 4,
  "nbformat_minor": 4
}