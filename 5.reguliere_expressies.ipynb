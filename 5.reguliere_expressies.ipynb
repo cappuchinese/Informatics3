{
  "cells": [
    {
      "metadata": {},
      "cell_type": "markdown",
      "source": "# Reguliere expressies\n\nZie https://regex101.com/\n\nVeel van wat we doen bij het schrijven van programma's voor biologie kan worden omschreven als het zoeken naar patronen in strings: DNA-, RNA- en eiwitsequenties zijn slechts strings. Veel deze biologische sequenties analyses kunnen worden beschreven in termen van patronen:\n\n- protein domains\n- DNA transcription factor binding motifs\n- restriction enzyme cut sites\n- degenerate PCR primer sites\n\nHet zijn echter niet alleen sequentiegegevens die interessante patronen kunnen hebben. Andere soorten gegevens waarmee we in de biologie te maken hebben komen bijvoorbeeld voor in de vorm van tekenreeksen in tekstbestanden zoals:\n\n- read mapping locations\n- geographical sample coordinates\n- taxonomic names\n- gene names\n- gene accession numbers\n- BLAST search results\n\nHet gemeenschappelijke thema bij al deze problemen is dat ze zoeken naar een vast patroon. Maar er zijn veel problemen die we willen oplossen die flexibelere patronen vereisen. \n\n- given a DNA sequence, what's the length of the poly-A tail?\n- given a gene accession name, extract the part between the third character and the underscore\n- given a protein sequence, determine if it contains this highly redundant protein domain motif\n\nOmdat dit soort problemen op zoveel verschillende gebieden voorkomen, is er een standaardset tools in Python om ermee om te gaan: reguliere expressies. Reguliere expressies zijn expressies in een apart soort taal. Deze zijn regulier omdat ze in elke programmeer taal hetzelfde zijn. Het is een soort kortschrift. Deze reguliere expressie tools zitten in de library `re`\n"
    },
    {
      "metadata": {
        "trusted": false
      },
      "cell_type": "code",
      "source": "import re\n#dir(re)",
      "execution_count": 1,
      "outputs": []
    },
    {
      "metadata": {},
      "cell_type": "markdown",
      "source": "De library \"re\" biedt verschillende methoden om zoekopdracht uit te voeren op tekstdata (een string of een bestand). methodes die veel gebruikt worden zijn \n\n    re.search()\n    re.finditer()\n    re.findall()\n    re.match()\n    re.sub()\n\nWe gebruiken verschillende componenten \n\n* een patroon opgegeven in de reguliere expressie taal\n* een string die willen doorzoeken met het opgegeven patroon\n* de `re` methode die aangeeft hoe we precies willen zoeken."
    },
    {
      "metadata": {},
      "cell_type": "markdown",
      "source": "## `re.search()`\nWe beginnen met de eenvoudigste tool voor reguliere expressies. `re.search ()` is een `true / false` functie die bepaalt of een patroon al dan niet ergens in een string voorkomt. Er zijn twee argumenten nodig, beide strings. Het eerste argument is het patroon **waarnaar** gezocht moet worden en het tweede argument is de string **waarin** gezocht moet worden. Zo testen we bijvoorbeeld of een DNA-sequentie een EcoRI-restrictiesite bevat:"
    },
    {
      "metadata": {
        "trusted": false
      },
      "cell_type": "code",
      "source": "dna = \"ATCGGGTCCACCAGC\"\nif re.search(r\"GGACC\", dna) or re.search(r\"GGTCC\", dna):\n    print(\"restriction site found!\")",
      "execution_count": 2,
      "outputs": [
        {
          "name": "stdout",
          "output_type": "stream",
          "text": "restriction site found!\n"
        }
      ]
    },
    {
      "metadata": {},
      "cell_type": "markdown",
      "source": "## alternate ( | )\nMaar een betere manier is om de variatie op de AvaII-site vast te leggen met een reguliere expressie. Een handig kenmerk van reguliere expressies is *alternate*. Om een aantal verschillende alternatieven weer te geven, schrijven we de alternatieven tussen haakjes`()`, gescheiden door een pipe teken `|`. In het geval van AvaII zijn er twee alternatieven voor het derde base - het kan A of T zijn - dus het patroon ziet er zo uit:\n\n\nGG (A | T) CC\n\nIn re.search () geeft ons dat de code:\n"
    },
    {
      "metadata": {
        "trusted": false
      },
      "cell_type": "code",
      "source": "dna = \"ATCGGGTCCACCAGC\"\nif re.search(r\"GG(A|T)CC\", dna):\n    print(\"restriction site found!\")",
      "execution_count": 3,
      "outputs": [
        {
          "name": "stdout",
          "output_type": "stream",
          "text": "restriction site found!\n"
        }
      ]
    },
    {
      "metadata": {},
      "cell_type": "markdown",
      "source": "Het BisI-restrictie-enzym snijdt in een nog groter aantal motieven - het patroon is GCNGC, waarbij N elke base vertegenwoordigt. We kunnen dezelfde afwisselingstechniek gebruiken om dit patroon weer te geven:\n\n\nGC (A | T | G | C) GC\n\n\n## blokhaken met toegestane tekens [ ]\nEr is echter nog een andere functie voor reguliere expressie waarmee we het patroon beknopter kunnen schrijven. Een paar vierkante haken met een lijst met tekens erin kan elk van deze tekens vertegenwoordigen. Het patroon GC [ATGC] GC komt dus overeen met GCAGC, GCTGC, GCGGC en GCCGC. Hier is een programma dat controleert op de aanwezigheid van een BisI-restrictiesite met behulp van:"
    },
    {
      "metadata": {
        "trusted": false
      },
      "cell_type": "code",
      "source": "dna = \"ATCGGGTCCACCAGC\"\nif re.search(r\"GG[ATGC]CC\", dna):\n    print(\"restriction site found!\")",
      "execution_count": 15,
      "outputs": [
        {
          "name": "stdout",
          "output_type": "stream",
          "text": "restriction site found!\n"
        }
      ]
    },
    {
      "metadata": {},
      "cell_type": "markdown",
      "source": "## een willekeurig teken:   .\n\nAls we willen dat een teken in een patroon overeenkomt met een willekeurig teken in de invoer, kunnen we een punt of punt gebruiken. Het patroon GC.GC komt bijvoorbeeld overeen met alle vier de mogelijkheden in het bovenstaande BisI-voorbeeld. De punt komt echter ook overeen met elk teken dat geen DNA-basis is, of zelfs maar een letter. Daarom zou het hele patroon ook overeenkomen met GCFGC, GC&GC en GC9GC, wat misschien niet is wat we willen, dus wees voorzichtig bij het gebruik van deze functie.\n\n## een teken dat we niet willen:   [^  ]\nSoms is het, in plaats van alle acceptabele tekens op te sommen, gemakkelijker om de tekens op te geven die we niet willen matchen. Een  dakje `^` plaatsen aan het begin van een karaktergroep als deze\n\n\n[^ XYZ]\n\n\nzal het negeren en overeenkomen met elk teken dat niet in de groep zit. Het bovenstaande voorbeeld komt overeen met elk ander teken dan X, Y of Z."
    },
    {
      "metadata": {},
      "cell_type": "markdown",
      "source": "## quantifiers ? + * { }\n\n#### ? \nMet de hierboven besproken reguliere expressiefuncties kunnen we variatie in de individuele karakters van patronen beschrijven. Een andere groep kenmerken, **quantifiers**, laten we variatie beschrijven in het aantal keren dat een sectie van een patroon wordt herhaald.\n\nEen vraagteken direct na een teken betekent dat dat teken optioneel is - het kan nul of één keer overeenkomen. Dus in het patroon `GAT?C` is de T optioneel en het patroon komt overeen met **GATC of GAC**. Als we een vraagteken op meer dan één teken willen plaatsen, kunnen we de tekens tussen haakjes groeperen. Bijvoorbeeld in het patroon `GGG(AAA)? TTT` is de groep van drie A's optioneel, dus het patroon komt overeen met **GGGAAATTT of GGGTTT**.\n\n#### +\nEen plusteken onmiddellijk na een teken of groep betekent dat het teken of de groep aanwezig moet zijn, maar kan een onbeperkt aantal keren worden herhaald - met andere woorden, het komt *een of meer keren overeen*. Het patroon `GGGA+ TTT` komt bijvoorbeeld overeen met drie G's, gevolgd door een of meer A's, gevolgd door drie T's. Het komt dus overeen met **GGGATTT, GGGAATT, GGGAAATT**, etc. maar niet met GGGTTT.\n\n#### *\nEen sterretje direct na een teken of groep betekent dat het teken of de groep optioneel is, maar ook kan worden herhaald. Met andere woorden, het komt *nul of meer keren overeen*. Het patroon `GGGA*TTT` komt bijvoorbeeld overeen met drie G's, gevolgd door nul of meer A's, gevolgd door drie T's. Het komt dus overeen met **GGGTTT, GGGATTT, GGGAATTT, etc**. Het is de meest flexibele qualifier.\n\n#### { }\nAls we een bepaald aantal herhalingen willen matchen, kunnen we accolades gebruiken. Het volgen van een personage of groep met een enkel nummer tussen accolades komt exact overeen met dat aantal herhalingen. Het patroon `GA{5}T` komt bijvoorbeeld overeen met **GAAAAAT** (5 A's) maar niet met GAAAAT (4 A's) of GAAAAAAT (6 A's). Door een teken of groep te volgen met een paar cijfers tussen accolades gescheiden door een komma, kunnen we een acceptabel bereik van herhalingen specificeren. Het patroon `GA{2,4}T` betekent bijvoorbeeld G, gevolgd door *tussen 2 en 4* A's, gevolgd door T. Het komt dus overeen met **GAAT, GAAAT en GAAAAT**, maar niet met GAT of GAAAAAT.\n\nNet als bij substrings kunnen we de onder- of bovengrenzen weglaten. Een {3,} komt overeen met drie of meer As en G {, 7} komt overeen met maximaal zeven G's. Samenvattend voorbeeld: Het patroon\n\n        [A-Z][a-z]{2,6}\n        \nmatched met alle strings die tussen de 2 en 6 letters zijn uit het alfabet (gewone en hoofdletters)\n       "
    },
    {
      "metadata": {},
      "cell_type": "markdown",
      "source": "## positions ^ en '&'\nDe De laatste set reguliere expressietools waar we naar gaan kijken, vertegenwoordigt helemaal geen tekens, maar eerder posities in de invoerreeks. Het dakje-symbool `^` matched het begin van een string en het dollarteken matched met het einde van een string. Het patroon `^AAA` matched met **AAATTT** maar niet met **GGGAAATTT**. Het patroon `GGG`$ komt overeen met **AAAGGG** maar niet met AAAGGGCCC."
    },
    {
      "metadata": {
        "trusted": false
      },
      "cell_type": "code",
      "source": "dna = \"CGCTCNTAGATGCGCRATGACTGCAYTGC\" \nmatches = re.search(r\"^ACGC\", dna) \nprint(matches)",
      "execution_count": 19,
      "outputs": [
        {
          "name": "stdout",
          "output_type": "stream",
          "text": "None\n"
        }
      ]
    },
    {
      "metadata": {},
      "cell_type": "markdown",
      "source": "## combineren van alles\nReguliere expressies worden pas echt krachtig als we gaan combineren. We kunnen quantifiers samen met afwisselingen en tekengroepen gebruiken om zeer flexibele patronen te specificeren. Hier is bijvoorbeeld een complex patroon om eukaryotische messenger-RNA-sequenties van volledige lengte te identificeren:\n\n    ^AUG[AUGC]{30,1000}A{5,10}$ \n    \n1. een AUG start codon van het begin van de sequentie: `^AUG`\n2. gevolgd door 30 and 1000 bases die A, U, G of C kunnen zijn `[AUGC]{30,1000}`\n3. gevolgd door een poly-A tail tussen 5 and 10 bases op het eind van de sequentie `A{5,10}$`"
    },
    {
      "metadata": {},
      "cell_type": "markdown",
      "source": "## `re.finditer()`\n\nTot nu toe hebben we alleen gekeken naar re.search(). re.search zoekt in een string en geeft True of False terug, maar kan geen zoekopdracht doen om alle matches te bepalen. Een methode die dat wel kan is re.finditer(). Het volgende voorbeeld zoekt naar alles wat niet DNA is `[^ACGT]` en stopt al die matches in een lijst genaamd `matches`. Elke match heeft als eigenschap de inhoud van de match (group) en de startpositie van de match (start)"
    },
    {
      "metadata": {
        "trusted": false
      },
      "cell_type": "code",
      "source": "dna = \"CGCTCNTAGATGCGCRATGACTGCAYTGC\" \n\nmatches = re.finditer(r\"[^ATGC]\", dna) \nfor m in matches: \n    base = m.group() \n    pos  = m.start() \n    print(base + \" found at position \" + str(pos))",
      "execution_count": 5,
      "outputs": [
        {
          "name": "stdout",
          "output_type": "stream",
          "text": "N found at position 5\nR found at position 15\nY found at position 25\n"
        }
      ]
    },
    {
      "metadata": {
        "trusted": false
      },
      "cell_type": "code",
      "source": "# het nadeel is wel dat we er door heen moeten loopen. Anders krijgen we het iteratie object terug.\ndna = \"CGCTCNTAGATGCGCRATGACTGCAYTGC\" \nmatches = re.finditer(r\"[^ATGC]\", dna) \nprint(matches)",
      "execution_count": 6,
      "outputs": [
        {
          "name": "stdout",
          "output_type": "stream",
          "text": "<callable_iterator object at 0x104c71b80>\n"
        }
      ]
    },
    {
      "metadata": {},
      "cell_type": "markdown",
      "source": "## `re.findall()`\nlost het probleem op van het iteratie object."
    },
    {
      "metadata": {
        "trusted": false
      },
      "cell_type": "code",
      "source": "dna = \"CGCTCNTAGATGCGCRATGACTGCAYTGC\" \nmatches = re.findall(r\"[^ATGC]\", dna) \nprint(matches)",
      "execution_count": 7,
      "outputs": [
        {
          "name": "stdout",
          "output_type": "stream",
          "text": "['N', 'R', 'Y']\n"
        }
      ]
    },
    {
      "metadata": {},
      "cell_type": "markdown",
      "source": "## `re.match()`\nEen laatste methode van de reguliere expressies, is een methode is die lijkt op re.search() genaamd `re.match()`. Het verschil is dat re.search() een patroon identificeert dat *overal* in de string voorkomt, terwijl re.match() alleen een patroon identificeert als het *overeenkomt met de hele string*. "
    },
    {
      "metadata": {
        "trusted": false
      },
      "cell_type": "code",
      "source": "#een voorbeeld\npat = r\"\\d{2} [A-Z][a-z]{2,4} [programmeur|ontwikkelaar|systeemmanager]\" # # definitie van het patroon\nl = [\"01 Rose programmeur\",\"32 Piet systeemmanager\",\"42 Marcel ontwikkelaar\"] # de strings die we willen doorzoeken          \nsolution = [substring for substring in l if re.match(pat, substring)] #de methode om te zoeken: match een string tegen het patroon\nprint(solution)\n",
      "execution_count": 8,
      "outputs": [
        {
          "name": "stdout",
          "output_type": "stream",
          "text": "['01 Rose programmeur', '32 Piet systeemmanager']\n"
        }
      ]
    },
    {
      "metadata": {
        "trusted": false
      },
      "cell_type": "code",
      "source": "#Een voorbeeld\npattern = r\"(\\w+)\\(\" # definitie van het patroon\ns = \"KIAA1279(dist=6336),SRGN(dist=64753)CCSER2(dist=489626)\" # de string die we willen doorzoeken                    \nruns = re.findall(pattern, s) #de methode om te zoeken: vind alle strings die matchen met het patroon\nprint(runs)  # het resultaat",
      "execution_count": 10,
      "outputs": [
        {
          "name": "stdout",
          "output_type": "stream",
          "text": "['KIAA1279', 'SRGN', 'CCSER2']\n"
        }
      ]
    },
    {
      "metadata": {},
      "cell_type": "markdown",
      "source": "## Reguliere expressies in het wild\nSoms wordt de reguliere expressie gebruikt in combinatie met replace functies. Dit wordt heel veel gedaan in data cleaning en preprossessing in data science"
    },
    {
      "metadata": {
        "trusted": false
      },
      "cell_type": "code",
      "source": "# een voorbeeld\nimport pandas as pd\nurl = \"https://raw.githubusercontent.com/CSSEGISandData/COVID-19/master/csse_covid_19_data/csse_covid_19_daily_reports/03-11-2020.csv\"\ndf = pd.read_csv(url)\ndf = df.replace(r'[^\\sa-zA-Z0-9]+', \"\", regex=True) # troep zoals emoi's eruit",
      "execution_count": 11,
      "outputs": []
    },
    {
      "metadata": {},
      "cell_type": "markdown",
      "source": "## `re.sub()`\nIn python kunnen we re.sub() gebruiken als we iets willen zoeken en vervangen"
    },
    {
      "metadata": {
        "trusted": false
      },
      "cell_type": "code",
      "source": "dna = 'ACCTTGT--CGAA-GGAGT'\ntemp_b = re.sub('[\\W-]', '', dna)\nprint(temp_b)\n",
      "execution_count": 20,
      "outputs": [
        {
          "name": "stdout",
          "output_type": "stream",
          "text": "ACCTTGTCGAAGGAGT\n"
        }
      ]
    },
    {
      "metadata": {},
      "cell_type": "markdown",
      "source": "## \\d \\w\\ s\n\nMaar wat zijn nu die \\d \\w \\s die we in die reguliere expressie patronen zien? Naast de quantifiers, positions, blokhaken, dakjes en dollartekens hebben we ook nog eens expressies voor groepen van tekens. Eentje waren we er al tegen gekomen: de `.` voor een willekeurig teken. Hier staan ze opgesomd.\n\n    . any character except newline \\n\n    \\d any decimal digit equal to [0-9]\n    \\D non-digit, equal to [^0-9]\n    \\s any whitespace character, equal to [...>\\t\\n\\r\\f\\v]\n    \\S any non-whitespace character, equal to [^ >\\t\\n\\r\\f\\v]\n    \\w any alphanumeric character, equal to [a-zA-Z-0-9_]\n    \\W any non-alphanumeric character, equal [^a-zA-Z-0-9_]\n    \n\n`r'[^\\sa-zA-Z0-9]+'` betekent dus elk teken dat niet een spatie is of een letter of een getal\n\n`r\"\\d{2} [A-Z][a-z]{2,4} [programmeur|ontwikkelaar|systeemmanager]\"` betekent een getal van twee nummers, gevolgd door een naam tussen de 2 en 4 letters gevolgd door of wel programmeur, ofwel ontwikkelaar of wel systeemmanager\n\n`r'(\\w+)\\('` betekent elk alphanumeriek teken van elke lengte gevolgd door een (\n"
    },
    {
      "metadata": {},
      "cell_type": "markdown",
      "source": "## Opdracht\nZin om zelf uit te proberen? Er staat een weekopdracht klaar. Tip: Test je patroon in a test site zoals https://regex101.com/"
    },
    {
      "metadata": {},
      "cell_type": "markdown",
      "source": "source: http://pythonforbiologists.com/index.php/introduction-to-python-for-biologists/regular-expressions/"
    }
  ],
  "metadata": {
    "kernelspec": {
      "name": "python3",
      "display_name": "Python 3",
      "language": "python"
    },
    "language_info": {
      "mimetype": "text/x-python",
      "nbconvert_exporter": "python",
      "name": "python",
      "pygments_lexer": "ipython3",
      "version": "3.5.4",
      "file_extension": ".py",
      "codemirror_mode": {
        "version": 3,
        "name": "ipython"
      }
    }
  },
  "nbformat": 4,
  "nbformat_minor": 4
}